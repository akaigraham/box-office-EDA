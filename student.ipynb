{
 "cells": [
  {
   "cell_type": "markdown",
   "metadata": {},
   "source": [
    "## Final Project Submission\n",
    "\n",
    "Please fill out:\n",
    "* Student name: Kai Graham\n",
    "* Student pace: self paced\n",
    "* Scheduled project review date/time: \n",
    "* Instructor name: Jeff Herman\n",
    "* Blog post URL:"
   ]
  },
  {
   "cell_type": "code",
   "execution_count": 1,
   "metadata": {},
   "outputs": [],
   "source": [
    "# Your code here - remember to use markdown cells for comments as well!"
   ]
  },
  {
   "cell_type": "markdown",
   "metadata": {},
   "source": [
    "## Scope:\n",
    "In my evaluation of determining which movies do best at the box office, I wanted to focus on three main areas:\n",
    "1. What length movies and genres / genre combinations tend to produce the most revenue / highest average rating?\n",
    "2. How has domestic movie spend trended over time, and when is the best time during the year to release a movie?\n",
    "3. Which writers should be targeted for hire to maximize chances of a high grossing movie?\n",
    "\n"
   ]
  },
  {
   "cell_type": "markdown",
   "metadata": {},
   "source": [
    "## Process:\n",
    "1. (Runtime & Genre Analysis) - Follow API instructions provided by themoviedb.org to register and generate API key and access code.  Use access code to authenticate API requests.  API results are limited to 20 results per page and 500 pages per request.  As a result, I had to split my request into smaller requests that could be returned by the API in entirety.  For this process, I decided to split each year into quarters.  For each year in the range 2000-2020, I make 4 api requests to pull in all movie data and append to a dataframe.  After all API requests are made, additional movie details are needed to pull in information on runtime and genres.  For each movie ID in my existing dataframe, I make another API call to pull in movie details associated with that ID.  Once all additional detail is pulled in, I clean data, handle missing values, replace placeholders where necessary, and evaluate the relationship between runtime and revenue.  After runtime, I move on to genres, looking at highest grossing movies on a total and median basis.  I perform the same thing for total and median average vote as well to compare differences between rating and revenue. \n",
    "2. (Domestic Spend Trends) - Use BeautifulSoup to scrape domestic box office spend data from boxofficemojo.com.  Once data is loaded, create scatter plots of annual and monthly revenue over time to show trends.  After this, I group the data by month to show the distribution of gross domestic spend in each month for all years.  Given the difference in variance between different months, I also decided to create a boxplot of gross domestic spend for all months.\n",
    "3. (Writers) - load provided datasets from IMDB.  Multiple writers can be included for each movie.  In these instances, I created a row for each individual writer.  Once I expanded writers onto new rows, I joined writer names from a provided imdb dataset and revenue from the API call to themoviedb.org performed for question 1.  Once all data was loaded, I grouped by writer name to calculate median aggregate statistics. Sort revenue column descending and produce bar charts."
   ]
  },
  {
   "cell_type": "markdown",
   "metadata": {},
   "source": [
    "## Question 1: What length movies and genres / genre combinations tend to produce the most revenue / highest average ratings?\n",
    "\n",
    "### Movie Runtime Analysis\n",
    "Outline:\n",
    "1. Import necessary libraries\n",
    "2. Create function to build progress bar to keep track of running calculations\n",
    "3. Pull in API / Access Keys and request from TMDB API a list of movie IDs from 2000 through 2020\n",
    "4. Create function to check how many pages of requests are returned by the API\n",
    "5. Create function to loop through all returned pages to extract movie IDs and other information\n",
    "6. Create a dataframe using returned movie IDs\n",
    "7. Clean data (handle missing data, duplicates, data that does not make sense in the context of this analysis)\n",
    "8. Request movie details via API for every movie ID we have from our first set of API requests\n",
    "9. Split dataset into different buckets based on movie runtime and analyze differences in revenue / ratings\n",
    "10. Create Visualizations"
   ]
  },
  {
   "cell_type": "code",
   "execution_count": 2,
   "metadata": {},
   "outputs": [],
   "source": [
    "#import necessary libraries\n",
    "import requests\n",
    "import pandas as pd\n",
    "import numpy as np\n",
    "import seaborn as sns\n",
    "import json\n",
    "import matplotlib.pyplot as plt\n",
    "%matplotlib inline\n",
    "plt.style.use('ggplot')"
   ]
  },
  {
   "cell_type": "markdown",
   "metadata": {},
   "source": [
    "Given length of calculations when calling API, I wanted a way to show status of calculations.  I followed the step-by-step instructions laid out by Bartosz Mikulski here: https://www.mikulskibartosz.name/how-to-display-a-progress-bar-in-jupyter-notebook/"
   ]
  },
  {
   "cell_type": "code",
   "execution_count": 3,
   "metadata": {},
   "outputs": [],
   "source": [
    "import time, sys\n",
    "from IPython.display import clear_output\n",
    "\n",
    "def update_progress(progress):\n",
    "    \"\"\"\n",
    "    Function to build progress bar.\n",
    "    Function returns percent of calculations remaining along with visual of progress completed so far.\n",
    "    For use in loops.\n",
    "    \"\"\"\n",
    "    bar_length = 20\n",
    "    if isinstance(progress, int):\n",
    "        progress = float(progress)\n",
    "    if not isinstance(progress, float):\n",
    "        progress = 0\n",
    "    if progress < 0:\n",
    "        progress = 0\n",
    "    if progress >= 1:\n",
    "        progress = 1\n",
    "        \n",
    "    block = int(round(bar_length * progress))\n",
    "    clear_output(wait = True)\n",
    "    text = \"Progress: [{0}] {1:.1f}%\".format( \"#\" * block + \"-\" * (bar_length - block), progress * 100)\n",
    "    print(text) "
   ]
  },
  {
   "cell_type": "code",
   "execution_count": 4,
   "metadata": {},
   "outputs": [],
   "source": [
    "def get_keys(path):\n",
    "    \"\"\"\n",
    "    Takes a filepath as input and returns the keys of the dictionary within the file\n",
    "    \"\"\"\n",
    "    with open(path) as f:\n",
    "        return json.load(f)"
   ]
  },
  {
   "cell_type": "markdown",
   "metadata": {},
   "source": [
    "API instructions found here: 'https://developers.themoviedb.org/3/getting-started/introduction'\n",
    " * Register for API key\n",
    " * Enter API key on website to generate access token\n",
    " * Create necessary headers using access token"
   ]
  },
  {
   "cell_type": "code",
   "execution_count": 5,
   "metadata": {},
   "outputs": [],
   "source": [
    "#Use get_keys() function to pull in specific API keys and access token \n",
    "keys = get_keys('/Users/addingtongraham/.secret/tmdb_api.json')\n",
    "api_key = keys['api_key']\n",
    "access_token = keys['access_token']"
   ]
  },
  {
   "cell_type": "code",
   "execution_count": 6,
   "metadata": {},
   "outputs": [],
   "source": [
    "#Use generated API Key and Access Token in headers to authorize access and API requests\n",
    "headers = {'Authorization': 'Bearer {}'.format(access_token)\n",
    "          ,'Content-Type': 'application/json;charset=utf-8'}"
   ]
  },
  {
   "cell_type": "code",
   "execution_count": 7,
   "metadata": {},
   "outputs": [],
   "source": [
    "def get_num_pages(url, headers, start_date, end_date):\n",
    "    \"\"\"\n",
    "    Takes as input an API url, headers containing authentication information, a start date, and end date.\n",
    "    Returns the number of pages of results returned by the API call as an int. \n",
    "    \"\"\"\n",
    "    params = {'release_date.gte': start_date,\n",
    "              'release_date.lte': end_date}\n",
    "    returned_movies = requests.get(url=url, headers=headers, params=params).json()\n",
    "    return returned_movies['total_pages']"
   ]
  },
  {
   "cell_type": "markdown",
   "metadata": {},
   "source": [
    "Data returned by API call is limited to 20 results per page, and a maximum of 500 pages.  Because the number of results is limited, it is not possible to pull movie data from 2000 through 2020 in one request.  As a result, each year is split into quarters.  Request quarterly data via API and append to consolidated dataframe"
   ]
  },
  {
   "cell_type": "code",
   "execution_count": 8,
   "metadata": {},
   "outputs": [],
   "source": [
    "def get_movies_data(start_date, end_date, url, headers):\n",
    "    \"\"\"\n",
    "    Takes a start date, end date, API url, and headers with authentication information.\n",
    "    Uses get_num_pages function to check the number of pages returned by the API.\n",
    "    Loops through all pages, requesting data from API, concatenating results to a dataframe.\n",
    "    Returns dataframe of movie information between start and end date.\n",
    "    \"\"\"\n",
    "    df = pd.DataFrame()\n",
    "    num_pages = get_num_pages(url, headers, start_date, end_date)\n",
    "    for i in range(1, num_pages+1):\n",
    "        parameters = {'release_date.gte': start_date,\n",
    "                      'release_data.lte': end_date,\n",
    "                      'page': i}\n",
    "        request = requests.get(url, headers=headers, params=parameters).json()\n",
    "        df = pd.concat([df, pd.DataFrame(request['results'])], sort=False)\n",
    "        \n",
    "    return df"
   ]
  },
  {
   "cell_type": "markdown",
   "metadata": {},
   "source": [
    "The API request takes a fair amount of time to run through completion.  To validate the function works as intended, the below code is used to test the function."
   ]
  },
  {
   "cell_type": "code",
   "execution_count": 9,
   "metadata": {},
   "outputs": [],
   "source": [
    "#test to make sure function worked\n",
    "df = get_movies_data(start_date='2020-01-01',\n",
    "                     end_date='2020-01-31',\n",
    "                     url='https://api.themoviedb.org/3/discover/movie',\n",
    "                     headers=headers)"
   ]
  },
  {
   "cell_type": "code",
   "execution_count": 10,
   "metadata": {},
   "outputs": [
    {
     "name": "stdout",
     "output_type": "stream",
     "text": [
      "<class 'pandas.core.frame.DataFrame'>\n",
      "Int64Index: 2100 entries, 0 to 19\n",
      "Data columns (total 14 columns):\n",
      "popularity           2100 non-null float64\n",
      "vote_count           2100 non-null int64\n",
      "video                2100 non-null bool\n",
      "poster_path          1889 non-null object\n",
      "id                   2100 non-null int64\n",
      "adult                2100 non-null bool\n",
      "backdrop_path        1571 non-null object\n",
      "original_language    2100 non-null object\n",
      "original_title       2100 non-null object\n",
      "genre_ids            2100 non-null object\n",
      "title                2100 non-null object\n",
      "vote_average         2100 non-null float64\n",
      "overview             2100 non-null object\n",
      "release_date         2100 non-null object\n",
      "dtypes: bool(2), float64(2), int64(2), object(8)\n",
      "memory usage: 217.4+ KB\n"
     ]
    }
   ],
   "source": [
    "#check info\n",
    "df.info()"
   ]
  },
  {
   "cell_type": "markdown",
   "metadata": {},
   "source": [
    "The test works as intended.  Given API limitations, it is not possible to pull in a full year of movie data at once.  As a result, one year of data is pulled in via 4 API calls (one for each quarter of the year).  Create functions to generate a list of start and end dates to loop through and call `get_movies_data`"
   ]
  },
  {
   "cell_type": "code",
   "execution_count": 11,
   "metadata": {},
   "outputs": [],
   "source": [
    "def create_quarter_date_list(year):\n",
    "    \"\"\"\n",
    "    Returns a list of quarterly start dates and a list of quarterly end dates from int input representing year.\n",
    "    \"\"\"\n",
    "    start_dates = [f'{year}-01-01', f'{year}-04-01', f'{year}-07-01', f'{year}-10-01']\n",
    "    end_dates = [f'{year}-03-31', f'{year}-06-30', f'{year}-09-30', f'{year}-12-31']\n",
    "    return start_dates, end_dates"
   ]
  },
  {
   "cell_type": "code",
   "execution_count": 12,
   "metadata": {},
   "outputs": [],
   "source": [
    "#create start and end dates for 2000 to 2020\n",
    "start_dates = []\n",
    "end_dates = []\n",
    "for year in range(2000, 2021):\n",
    "    start_date, end_date = create_quarter_date_list(year)\n",
    "    start_dates += start_date\n",
    "    end_dates += end_date"
   ]
  },
  {
   "cell_type": "code",
   "execution_count": 13,
   "metadata": {},
   "outputs": [
    {
     "name": "stdout",
     "output_type": "stream",
     "text": [
      "Progress: [####################] 100.0%\n"
     ]
    }
   ],
   "source": [
    "#get movie data and concat to current dataframe\n",
    "df = pd.DataFrame()\n",
    "url = 'https://api.themoviedb.org/3/discover/movie'\n",
    "\n",
    "#loop through all start and end dates and make an API call for each date range\n",
    "#append results to df\n",
    "for i, start_date in enumerate(start_dates):\n",
    "    temp_df = get_movies_data(start_date=start_date, end_date=end_dates[i], url=url, headers=headers)\n",
    "    df = pd.concat([df, temp_df], sort=False)\n",
    "    \n",
    "    update_progress(i / (len(start_dates)-1))"
   ]
  },
  {
   "cell_type": "code",
   "execution_count": 14,
   "metadata": {},
   "outputs": [
    {
     "name": "stdout",
     "output_type": "stream",
     "text": [
      "<class 'pandas.core.frame.DataFrame'>\n",
      "Int64Index: 326772 entries, 0 to 19\n",
      "Data columns (total 14 columns):\n",
      "popularity           326772 non-null float64\n",
      "vote_count           326772 non-null int64\n",
      "video                326772 non-null bool\n",
      "poster_path          320281 non-null object\n",
      "id                   326772 non-null int64\n",
      "adult                326772 non-null bool\n",
      "backdrop_path        298949 non-null object\n",
      "original_language    326772 non-null object\n",
      "original_title       326772 non-null object\n",
      "genre_ids            326772 non-null object\n",
      "title                326772 non-null object\n",
      "vote_average         326772 non-null float64\n",
      "overview             326772 non-null object\n",
      "release_date         326772 non-null object\n",
      "dtypes: bool(2), float64(2), int64(2), object(8)\n",
      "memory usage: 33.0+ MB\n"
     ]
    }
   ],
   "source": [
    "#check the requests worked\n",
    "df.info()"
   ]
  },
  {
   "cell_type": "code",
   "execution_count": 15,
   "metadata": {},
   "outputs": [],
   "source": [
    "#given long runtime create a copy of the df\n",
    "movies = df.copy()"
   ]
  },
  {
   "cell_type": "markdown",
   "metadata": {},
   "source": [
    "Begin initial cleaning of data."
   ]
  },
  {
   "cell_type": "code",
   "execution_count": 16,
   "metadata": {},
   "outputs": [],
   "source": [
    "#remove movies with release dates after 5/22/2020\n",
    "#not interested in release dates of movies in the future\n",
    "movies = movies.loc[movies['release_date'] <= '2020-05-22']"
   ]
  },
  {
   "cell_type": "code",
   "execution_count": 17,
   "metadata": {},
   "outputs": [
    {
     "data": {
      "text/plain": [
       "289423"
      ]
     },
     "execution_count": 17,
     "metadata": {},
     "output_type": "execute_result"
    }
   ],
   "source": [
    "#check for duplicate IDs\n",
    "movies['id'].duplicated().sum()"
   ]
  },
  {
   "cell_type": "code",
   "execution_count": 18,
   "metadata": {},
   "outputs": [],
   "source": [
    "#drop duplicate IDs\n",
    "movies.drop_duplicates(subset='id', inplace=True)"
   ]
  },
  {
   "cell_type": "code",
   "execution_count": 19,
   "metadata": {},
   "outputs": [
    {
     "data": {
      "text/plain": [
       "19757"
      ]
     },
     "execution_count": 19,
     "metadata": {},
     "output_type": "execute_result"
    }
   ],
   "source": [
    "#check how many rows remain\n",
    "len(movies)"
   ]
  },
  {
   "cell_type": "code",
   "execution_count": 20,
   "metadata": {},
   "outputs": [
    {
     "name": "stdout",
     "output_type": "stream",
     "text": [
      "<class 'pandas.core.frame.DataFrame'>\n",
      "Int64Index: 19757 entries, 0 to 19\n",
      "Data columns (total 14 columns):\n",
      "popularity           19757 non-null float64\n",
      "vote_count           19757 non-null int64\n",
      "video                19757 non-null bool\n",
      "poster_path          19318 non-null object\n",
      "id                   19757 non-null int64\n",
      "adult                19757 non-null bool\n",
      "backdrop_path        16146 non-null object\n",
      "original_language    19757 non-null object\n",
      "original_title       19757 non-null object\n",
      "genre_ids            19757 non-null object\n",
      "title                19757 non-null object\n",
      "vote_average         19757 non-null float64\n",
      "overview             19757 non-null object\n",
      "release_date         19757 non-null object\n",
      "dtypes: bool(2), float64(2), int64(2), object(8)\n",
      "memory usage: 2.0+ MB\n"
     ]
    }
   ],
   "source": [
    "movies.info()"
   ]
  },
  {
   "cell_type": "code",
   "execution_count": 21,
   "metadata": {},
   "outputs": [],
   "source": [
    "#remove irrelevant columns\n",
    "movies = movies.drop(columns=['poster_path', 'backdrop_path'])"
   ]
  },
  {
   "cell_type": "markdown",
   "metadata": {},
   "source": [
    "`poster_path` and `backdrop_path` are filepaths / urls to the posters and backdrops of each movie. These are not relevant for analysis, so can be removed. "
   ]
  },
  {
   "cell_type": "code",
   "execution_count": 22,
   "metadata": {},
   "outputs": [
    {
     "data": {
      "text/plain": [
       "popularity           0\n",
       "vote_count           0\n",
       "video                0\n",
       "id                   0\n",
       "adult                0\n",
       "original_language    0\n",
       "original_title       0\n",
       "genre_ids            0\n",
       "title                0\n",
       "vote_average         0\n",
       "overview             0\n",
       "release_date         0\n",
       "dtype: int64"
      ]
     },
     "execution_count": 22,
     "metadata": {},
     "output_type": "execute_result"
    }
   ],
   "source": [
    "#check for NaNs\n",
    "movies.isna().sum()"
   ]
  },
  {
   "cell_type": "markdown",
   "metadata": {},
   "source": [
    "There are no remaining missing values or duplicate IDs.\n",
    "Loop through all movie IDs and make additional API requests using the proper API URL (listed below) to pull in additional movie details for each movie ID."
   ]
  },
  {
   "cell_type": "code",
   "execution_count": 23,
   "metadata": {},
   "outputs": [
    {
     "name": "stdout",
     "output_type": "stream",
     "text": [
      "Progress: [####################] 100.0%\n"
     ]
    }
   ],
   "source": [
    "movie_details = [] #blank list to store data from API\n",
    "\n",
    "#set url and headers\n",
    "url = 'https://api.themoviedb.org/3/movie'\n",
    "headers = {'Authorization': 'Bearer {}'.format(access_token),\n",
    "           'Content-Type': 'application/json;charset=utf-8'}\n",
    "\n",
    "#loop through all movie IDs, request details, and append to movie_details\n",
    "for index, movie_id in enumerate(movies['id']):\n",
    "    response = requests.get(f'{url}/{movie_id}', headers=headers).json()\n",
    "    movie_details.append(response)\n",
    "    update_progress(index / len(movies['id']))"
   ]
  },
  {
   "cell_type": "code",
   "execution_count": 140,
   "metadata": {},
   "outputs": [],
   "source": [
    "#create dataframe from list\n",
    "movies_df = pd.DataFrame(movie_details)"
   ]
  },
  {
   "cell_type": "code",
   "execution_count": 141,
   "metadata": {},
   "outputs": [
    {
     "data": {
      "text/html": [
       "<div>\n",
       "<style scoped>\n",
       "    .dataframe tbody tr th:only-of-type {\n",
       "        vertical-align: middle;\n",
       "    }\n",
       "\n",
       "    .dataframe tbody tr th {\n",
       "        vertical-align: top;\n",
       "    }\n",
       "\n",
       "    .dataframe thead th {\n",
       "        text-align: right;\n",
       "    }\n",
       "</style>\n",
       "<table border=\"1\" class=\"dataframe\">\n",
       "  <thead>\n",
       "    <tr style=\"text-align: right;\">\n",
       "      <th></th>\n",
       "      <th>adult</th>\n",
       "      <th>backdrop_path</th>\n",
       "      <th>belongs_to_collection</th>\n",
       "      <th>budget</th>\n",
       "      <th>genres</th>\n",
       "      <th>homepage</th>\n",
       "      <th>id</th>\n",
       "      <th>imdb_id</th>\n",
       "      <th>original_language</th>\n",
       "      <th>original_title</th>\n",
       "      <th>...</th>\n",
       "      <th>runtime</th>\n",
       "      <th>spoken_languages</th>\n",
       "      <th>status</th>\n",
       "      <th>tagline</th>\n",
       "      <th>title</th>\n",
       "      <th>video</th>\n",
       "      <th>vote_average</th>\n",
       "      <th>vote_count</th>\n",
       "      <th>status_code</th>\n",
       "      <th>status_message</th>\n",
       "    </tr>\n",
       "  </thead>\n",
       "  <tbody>\n",
       "    <tr>\n",
       "      <td>0</td>\n",
       "      <td>False</td>\n",
       "      <td>/5BwqwxMEjeFtdknRV792Svo0K1v.jpg</td>\n",
       "      <td>None</td>\n",
       "      <td>87500000.0</td>\n",
       "      <td>[{'id': 878, 'name': 'Science Fiction'}, {'id'...</td>\n",
       "      <td>https://www.foxmovies.com/movies/ad-astra</td>\n",
       "      <td>419704.0</td>\n",
       "      <td>tt2935510</td>\n",
       "      <td>en</td>\n",
       "      <td>Ad Astra</td>\n",
       "      <td>...</td>\n",
       "      <td>123.0</td>\n",
       "      <td>[{'iso_639_1': 'en', 'name': 'English'}, {'iso...</td>\n",
       "      <td>Released</td>\n",
       "      <td>The answers we seek are just outside our reach</td>\n",
       "      <td>Ad Astra</td>\n",
       "      <td>False</td>\n",
       "      <td>6.0</td>\n",
       "      <td>3518.0</td>\n",
       "      <td>NaN</td>\n",
       "      <td>NaN</td>\n",
       "    </tr>\n",
       "    <tr>\n",
       "      <td>1</td>\n",
       "      <td>False</td>\n",
       "      <td>/ocUrMYbdjknu2TwzMHKT9PBBQRw.jpg</td>\n",
       "      <td>None</td>\n",
       "      <td>42000000.0</td>\n",
       "      <td>[{'id': 28, 'name': 'Action'}, {'id': 878, 'na...</td>\n",
       "      <td>https://www.bloodshot.movie/</td>\n",
       "      <td>338762.0</td>\n",
       "      <td>tt1634106</td>\n",
       "      <td>en</td>\n",
       "      <td>Bloodshot</td>\n",
       "      <td>...</td>\n",
       "      <td>110.0</td>\n",
       "      <td>[{'iso_639_1': 'en', 'name': 'English'}]</td>\n",
       "      <td>Released</td>\n",
       "      <td>Being a superhero is in his blood</td>\n",
       "      <td>Bloodshot</td>\n",
       "      <td>False</td>\n",
       "      <td>7.1</td>\n",
       "      <td>2410.0</td>\n",
       "      <td>NaN</td>\n",
       "      <td>NaN</td>\n",
       "    </tr>\n",
       "    <tr>\n",
       "      <td>2</td>\n",
       "      <td>False</td>\n",
       "      <td>/fKtYXUhX5fxMxzQfyUcQW9Shik6.jpg</td>\n",
       "      <td>None</td>\n",
       "      <td>0.0</td>\n",
       "      <td>[{'id': 10751, 'name': 'Family'}, {'id': 16, '...</td>\n",
       "      <td>https://www.scoob.movie/</td>\n",
       "      <td>385103.0</td>\n",
       "      <td>tt3152592</td>\n",
       "      <td>en</td>\n",
       "      <td>Scoob!</td>\n",
       "      <td>...</td>\n",
       "      <td>94.0</td>\n",
       "      <td>[{'iso_639_1': 'en', 'name': 'English'}]</td>\n",
       "      <td>Released</td>\n",
       "      <td>Mystery loves company.</td>\n",
       "      <td>Scoob!</td>\n",
       "      <td>False</td>\n",
       "      <td>8.1</td>\n",
       "      <td>748.0</td>\n",
       "      <td>NaN</td>\n",
       "      <td>NaN</td>\n",
       "    </tr>\n",
       "    <tr>\n",
       "      <td>3</td>\n",
       "      <td>False</td>\n",
       "      <td>/1EGFjibWzsN2GNNeOSQBYhQ9pK5.jpg</td>\n",
       "      <td>None</td>\n",
       "      <td>0.0</td>\n",
       "      <td>[{'id': 28, 'name': 'Action'}, {'id': 35, 'nam...</td>\n",
       "      <td>https://www.netflix.com/title/81248748</td>\n",
       "      <td>576156.0</td>\n",
       "      <td>tt8851668</td>\n",
       "      <td>en</td>\n",
       "      <td>The Lovebirds</td>\n",
       "      <td>...</td>\n",
       "      <td>86.0</td>\n",
       "      <td>[{'iso_639_1': 'en', 'name': 'English'}]</td>\n",
       "      <td>Released</td>\n",
       "      <td>All they wanted was a quiet night out</td>\n",
       "      <td>The Lovebirds</td>\n",
       "      <td>False</td>\n",
       "      <td>6.5</td>\n",
       "      <td>124.0</td>\n",
       "      <td>NaN</td>\n",
       "      <td>NaN</td>\n",
       "    </tr>\n",
       "    <tr>\n",
       "      <td>4</td>\n",
       "      <td>False</td>\n",
       "      <td>/pPguXG07MDRKH1agJdw1mWzuEkP.jpg</td>\n",
       "      <td>None</td>\n",
       "      <td>0.0</td>\n",
       "      <td>[{'id': 28, 'name': 'Action'}, {'id': 53, 'nam...</td>\n",
       "      <td></td>\n",
       "      <td>686245.0</td>\n",
       "      <td>tt10303324</td>\n",
       "      <td>en</td>\n",
       "      <td>Survive the Night</td>\n",
       "      <td>...</td>\n",
       "      <td>89.0</td>\n",
       "      <td>[{'iso_639_1': 'en', 'name': 'English'}]</td>\n",
       "      <td>Released</td>\n",
       "      <td></td>\n",
       "      <td>Survive the Night</td>\n",
       "      <td>False</td>\n",
       "      <td>5.7</td>\n",
       "      <td>65.0</td>\n",
       "      <td>NaN</td>\n",
       "      <td>NaN</td>\n",
       "    </tr>\n",
       "  </tbody>\n",
       "</table>\n",
       "<p>5 rows × 27 columns</p>\n",
       "</div>"
      ],
      "text/plain": [
       "   adult                     backdrop_path belongs_to_collection      budget  \\\n",
       "0  False  /5BwqwxMEjeFtdknRV792Svo0K1v.jpg                  None  87500000.0   \n",
       "1  False  /ocUrMYbdjknu2TwzMHKT9PBBQRw.jpg                  None  42000000.0   \n",
       "2  False  /fKtYXUhX5fxMxzQfyUcQW9Shik6.jpg                  None         0.0   \n",
       "3  False  /1EGFjibWzsN2GNNeOSQBYhQ9pK5.jpg                  None         0.0   \n",
       "4  False  /pPguXG07MDRKH1agJdw1mWzuEkP.jpg                  None         0.0   \n",
       "\n",
       "                                              genres  \\\n",
       "0  [{'id': 878, 'name': 'Science Fiction'}, {'id'...   \n",
       "1  [{'id': 28, 'name': 'Action'}, {'id': 878, 'na...   \n",
       "2  [{'id': 10751, 'name': 'Family'}, {'id': 16, '...   \n",
       "3  [{'id': 28, 'name': 'Action'}, {'id': 35, 'nam...   \n",
       "4  [{'id': 28, 'name': 'Action'}, {'id': 53, 'nam...   \n",
       "\n",
       "                                    homepage        id     imdb_id  \\\n",
       "0  https://www.foxmovies.com/movies/ad-astra  419704.0   tt2935510   \n",
       "1               https://www.bloodshot.movie/  338762.0   tt1634106   \n",
       "2                   https://www.scoob.movie/  385103.0   tt3152592   \n",
       "3     https://www.netflix.com/title/81248748  576156.0   tt8851668   \n",
       "4                                             686245.0  tt10303324   \n",
       "\n",
       "  original_language     original_title  ... runtime  \\\n",
       "0                en           Ad Astra  ...   123.0   \n",
       "1                en          Bloodshot  ...   110.0   \n",
       "2                en             Scoob!  ...    94.0   \n",
       "3                en      The Lovebirds  ...    86.0   \n",
       "4                en  Survive the Night  ...    89.0   \n",
       "\n",
       "                                    spoken_languages    status  \\\n",
       "0  [{'iso_639_1': 'en', 'name': 'English'}, {'iso...  Released   \n",
       "1           [{'iso_639_1': 'en', 'name': 'English'}]  Released   \n",
       "2           [{'iso_639_1': 'en', 'name': 'English'}]  Released   \n",
       "3           [{'iso_639_1': 'en', 'name': 'English'}]  Released   \n",
       "4           [{'iso_639_1': 'en', 'name': 'English'}]  Released   \n",
       "\n",
       "                                          tagline              title  video  \\\n",
       "0  The answers we seek are just outside our reach           Ad Astra  False   \n",
       "1               Being a superhero is in his blood          Bloodshot  False   \n",
       "2                          Mystery loves company.             Scoob!  False   \n",
       "3           All they wanted was a quiet night out      The Lovebirds  False   \n",
       "4                                                  Survive the Night  False   \n",
       "\n",
       "   vote_average  vote_count status_code status_message  \n",
       "0           6.0      3518.0         NaN            NaN  \n",
       "1           7.1      2410.0         NaN            NaN  \n",
       "2           8.1       748.0         NaN            NaN  \n",
       "3           6.5       124.0         NaN            NaN  \n",
       "4           5.7        65.0         NaN            NaN  \n",
       "\n",
       "[5 rows x 27 columns]"
      ]
     },
     "execution_count": 141,
     "metadata": {},
     "output_type": "execute_result"
    }
   ],
   "source": [
    "#examine the dataframe\n",
    "movies_df.head()"
   ]
  },
  {
   "cell_type": "code",
   "execution_count": 142,
   "metadata": {},
   "outputs": [],
   "source": [
    "#remove the status_code and status_message columns\n",
    "movies_df = movies_df.drop(columns=['status_code', 'status_message'])"
   ]
  },
  {
   "cell_type": "code",
   "execution_count": 143,
   "metadata": {},
   "outputs": [
    {
     "data": {
      "text/plain": [
       "3"
      ]
     },
     "execution_count": 143,
     "metadata": {},
     "output_type": "execute_result"
    }
   ],
   "source": [
    "#check for duplicates in the id column\n",
    "movies_df['id'].duplicated().sum()"
   ]
  },
  {
   "cell_type": "code",
   "execution_count": 144,
   "metadata": {},
   "outputs": [],
   "source": [
    "#remove duplicates\n",
    "movies_df['id'].drop_duplicates(inplace=True)"
   ]
  },
  {
   "cell_type": "code",
   "execution_count": 145,
   "metadata": {},
   "outputs": [
    {
     "data": {
      "text/plain": [
       "0"
      ]
     },
     "execution_count": 145,
     "metadata": {},
     "output_type": "execute_result"
    }
   ],
   "source": [
    "#check that it worked\n",
    "movies_df['id'].duplicated().sum()"
   ]
  },
  {
   "cell_type": "code",
   "execution_count": 146,
   "metadata": {},
   "outputs": [
    {
     "data": {
      "text/plain": [
       "adult                        4\n",
       "backdrop_path             3617\n",
       "belongs_to_collection    17328\n",
       "budget                       4\n",
       "genres                       4\n",
       "homepage                  1526\n",
       "id                           4\n",
       "imdb_id                   1768\n",
       "original_language            4\n",
       "original_title               4\n",
       "overview                     4\n",
       "popularity                   4\n",
       "poster_path                441\n",
       "production_companies         4\n",
       "production_countries         4\n",
       "release_date                 4\n",
       "revenue                      4\n",
       "runtime                    274\n",
       "spoken_languages             4\n",
       "status                       4\n",
       "tagline                      4\n",
       "title                        4\n",
       "video                        4\n",
       "vote_average                 4\n",
       "vote_count                   4\n",
       "dtype: int64"
      ]
     },
     "execution_count": 146,
     "metadata": {},
     "output_type": "execute_result"
    }
   ],
   "source": [
    "#check for missing values\n",
    "movies_df.isna().sum()"
   ]
  },
  {
   "cell_type": "code",
   "execution_count": 147,
   "metadata": {},
   "outputs": [],
   "source": [
    "#there are a number of irrelevant columns we can remove\n",
    "movies_df = movies_df.drop(columns=['backdrop_path', 'belongs_to_collection',\n",
    "                        'homepage', 'poster_path'])"
   ]
  },
  {
   "cell_type": "code",
   "execution_count": 148,
   "metadata": {},
   "outputs": [
    {
     "data": {
      "text/plain": [
       "adult                      4\n",
       "budget                     4\n",
       "genres                     4\n",
       "id                         4\n",
       "imdb_id                 1768\n",
       "original_language          4\n",
       "original_title             4\n",
       "overview                   4\n",
       "popularity                 4\n",
       "production_companies       4\n",
       "production_countries       4\n",
       "release_date               4\n",
       "revenue                    4\n",
       "runtime                  274\n",
       "spoken_languages           4\n",
       "status                     4\n",
       "tagline                    4\n",
       "title                      4\n",
       "video                      4\n",
       "vote_average               4\n",
       "vote_count                 4\n",
       "dtype: int64"
      ]
     },
     "execution_count": 148,
     "metadata": {},
     "output_type": "execute_result"
    }
   ],
   "source": [
    "#recheck for missing values\n",
    "movies_df.isna().sum()"
   ]
  },
  {
   "cell_type": "code",
   "execution_count": 149,
   "metadata": {},
   "outputs": [
    {
     "data": {
      "text/html": [
       "<div>\n",
       "<style scoped>\n",
       "    .dataframe tbody tr th:only-of-type {\n",
       "        vertical-align: middle;\n",
       "    }\n",
       "\n",
       "    .dataframe tbody tr th {\n",
       "        vertical-align: top;\n",
       "    }\n",
       "\n",
       "    .dataframe thead th {\n",
       "        text-align: right;\n",
       "    }\n",
       "</style>\n",
       "<table border=\"1\" class=\"dataframe\">\n",
       "  <thead>\n",
       "    <tr style=\"text-align: right;\">\n",
       "      <th></th>\n",
       "      <th>adult</th>\n",
       "      <th>budget</th>\n",
       "      <th>genres</th>\n",
       "      <th>id</th>\n",
       "      <th>imdb_id</th>\n",
       "      <th>original_language</th>\n",
       "      <th>original_title</th>\n",
       "      <th>overview</th>\n",
       "      <th>popularity</th>\n",
       "      <th>production_companies</th>\n",
       "      <th>...</th>\n",
       "      <th>release_date</th>\n",
       "      <th>revenue</th>\n",
       "      <th>runtime</th>\n",
       "      <th>spoken_languages</th>\n",
       "      <th>status</th>\n",
       "      <th>tagline</th>\n",
       "      <th>title</th>\n",
       "      <th>video</th>\n",
       "      <th>vote_average</th>\n",
       "      <th>vote_count</th>\n",
       "    </tr>\n",
       "  </thead>\n",
       "  <tbody>\n",
       "    <tr>\n",
       "      <td>4061</td>\n",
       "      <td>NaN</td>\n",
       "      <td>NaN</td>\n",
       "      <td>NaN</td>\n",
       "      <td>NaN</td>\n",
       "      <td>NaN</td>\n",
       "      <td>NaN</td>\n",
       "      <td>NaN</td>\n",
       "      <td>NaN</td>\n",
       "      <td>NaN</td>\n",
       "      <td>NaN</td>\n",
       "      <td>...</td>\n",
       "      <td>NaN</td>\n",
       "      <td>NaN</td>\n",
       "      <td>NaN</td>\n",
       "      <td>NaN</td>\n",
       "      <td>NaN</td>\n",
       "      <td>NaN</td>\n",
       "      <td>NaN</td>\n",
       "      <td>NaN</td>\n",
       "      <td>NaN</td>\n",
       "      <td>NaN</td>\n",
       "    </tr>\n",
       "    <tr>\n",
       "      <td>15742</td>\n",
       "      <td>NaN</td>\n",
       "      <td>NaN</td>\n",
       "      <td>NaN</td>\n",
       "      <td>NaN</td>\n",
       "      <td>NaN</td>\n",
       "      <td>NaN</td>\n",
       "      <td>NaN</td>\n",
       "      <td>NaN</td>\n",
       "      <td>NaN</td>\n",
       "      <td>NaN</td>\n",
       "      <td>...</td>\n",
       "      <td>NaN</td>\n",
       "      <td>NaN</td>\n",
       "      <td>NaN</td>\n",
       "      <td>NaN</td>\n",
       "      <td>NaN</td>\n",
       "      <td>NaN</td>\n",
       "      <td>NaN</td>\n",
       "      <td>NaN</td>\n",
       "      <td>NaN</td>\n",
       "      <td>NaN</td>\n",
       "    </tr>\n",
       "    <tr>\n",
       "      <td>16341</td>\n",
       "      <td>NaN</td>\n",
       "      <td>NaN</td>\n",
       "      <td>NaN</td>\n",
       "      <td>NaN</td>\n",
       "      <td>NaN</td>\n",
       "      <td>NaN</td>\n",
       "      <td>NaN</td>\n",
       "      <td>NaN</td>\n",
       "      <td>NaN</td>\n",
       "      <td>NaN</td>\n",
       "      <td>...</td>\n",
       "      <td>NaN</td>\n",
       "      <td>NaN</td>\n",
       "      <td>NaN</td>\n",
       "      <td>NaN</td>\n",
       "      <td>NaN</td>\n",
       "      <td>NaN</td>\n",
       "      <td>NaN</td>\n",
       "      <td>NaN</td>\n",
       "      <td>NaN</td>\n",
       "      <td>NaN</td>\n",
       "    </tr>\n",
       "    <tr>\n",
       "      <td>17448</td>\n",
       "      <td>NaN</td>\n",
       "      <td>NaN</td>\n",
       "      <td>NaN</td>\n",
       "      <td>NaN</td>\n",
       "      <td>NaN</td>\n",
       "      <td>NaN</td>\n",
       "      <td>NaN</td>\n",
       "      <td>NaN</td>\n",
       "      <td>NaN</td>\n",
       "      <td>NaN</td>\n",
       "      <td>...</td>\n",
       "      <td>NaN</td>\n",
       "      <td>NaN</td>\n",
       "      <td>NaN</td>\n",
       "      <td>NaN</td>\n",
       "      <td>NaN</td>\n",
       "      <td>NaN</td>\n",
       "      <td>NaN</td>\n",
       "      <td>NaN</td>\n",
       "      <td>NaN</td>\n",
       "      <td>NaN</td>\n",
       "    </tr>\n",
       "  </tbody>\n",
       "</table>\n",
       "<p>4 rows × 21 columns</p>\n",
       "</div>"
      ],
      "text/plain": [
       "      adult  budget genres  id imdb_id original_language original_title  \\\n",
       "4061    NaN     NaN    NaN NaN     NaN               NaN            NaN   \n",
       "15742   NaN     NaN    NaN NaN     NaN               NaN            NaN   \n",
       "16341   NaN     NaN    NaN NaN     NaN               NaN            NaN   \n",
       "17448   NaN     NaN    NaN NaN     NaN               NaN            NaN   \n",
       "\n",
       "      overview  popularity production_companies  ... release_date revenue  \\\n",
       "4061       NaN         NaN                  NaN  ...          NaN     NaN   \n",
       "15742      NaN         NaN                  NaN  ...          NaN     NaN   \n",
       "16341      NaN         NaN                  NaN  ...          NaN     NaN   \n",
       "17448      NaN         NaN                  NaN  ...          NaN     NaN   \n",
       "\n",
       "       runtime  spoken_languages status tagline title video vote_average  \\\n",
       "4061       NaN               NaN    NaN     NaN   NaN   NaN          NaN   \n",
       "15742      NaN               NaN    NaN     NaN   NaN   NaN          NaN   \n",
       "16341      NaN               NaN    NaN     NaN   NaN   NaN          NaN   \n",
       "17448      NaN               NaN    NaN     NaN   NaN   NaN          NaN   \n",
       "\n",
       "       vote_count  \n",
       "4061          NaN  \n",
       "15742         NaN  \n",
       "16341         NaN  \n",
       "17448         NaN  \n",
       "\n",
       "[4 rows x 21 columns]"
      ]
     },
     "execution_count": 149,
     "metadata": {},
     "output_type": "execute_result"
    }
   ],
   "source": [
    "#examine the rows that seem to be missing data\n",
    "movies_df.loc[movies_df['adult'].isna()]"
   ]
  },
  {
   "cell_type": "code",
   "execution_count": 150,
   "metadata": {},
   "outputs": [],
   "source": [
    "#we can remove all these rows as they contain no data\n",
    "movies_df = movies_df.dropna(subset=['adult'])"
   ]
  },
  {
   "cell_type": "code",
   "execution_count": 151,
   "metadata": {},
   "outputs": [
    {
     "name": "stdout",
     "output_type": "stream",
     "text": [
      "<class 'pandas.core.frame.DataFrame'>\n",
      "Int64Index: 19753 entries, 0 to 19756\n",
      "Data columns (total 21 columns):\n",
      "adult                   19753 non-null object\n",
      "budget                  19753 non-null float64\n",
      "genres                  19753 non-null object\n",
      "id                      19753 non-null float64\n",
      "imdb_id                 17989 non-null object\n",
      "original_language       19753 non-null object\n",
      "original_title          19753 non-null object\n",
      "overview                19753 non-null object\n",
      "popularity              19753 non-null float64\n",
      "production_companies    19753 non-null object\n",
      "production_countries    19753 non-null object\n",
      "release_date            19753 non-null object\n",
      "revenue                 19753 non-null float64\n",
      "runtime                 19483 non-null float64\n",
      "spoken_languages        19753 non-null object\n",
      "status                  19753 non-null object\n",
      "tagline                 19753 non-null object\n",
      "title                   19753 non-null object\n",
      "video                   19753 non-null object\n",
      "vote_average            19753 non-null float64\n",
      "vote_count              19753 non-null float64\n",
      "dtypes: float64(7), object(14)\n",
      "memory usage: 3.3+ MB\n"
     ]
    }
   ],
   "source": [
    "movies_df.info()"
   ]
  },
  {
   "cell_type": "code",
   "execution_count": 152,
   "metadata": {},
   "outputs": [],
   "source": [
    "#fill missing imdb_id with the string 'missing' and fill missing runtime information with the median\n",
    "movies_df['imdb_id'].fillna('missing', inplace=True)\n",
    "movies_df['runtime'].fillna(movies_df['runtime'].median(), inplace=True)\n"
   ]
  },
  {
   "cell_type": "markdown",
   "metadata": {},
   "source": [
    "Copy dataframe to run runtime-specific analyses"
   ]
  },
  {
   "cell_type": "code",
   "execution_count": 153,
   "metadata": {},
   "outputs": [],
   "source": [
    "runtime_df = movies_df.copy()"
   ]
  },
  {
   "cell_type": "code",
   "execution_count": 154,
   "metadata": {},
   "outputs": [
    {
     "data": {
      "text/plain": [
       "adult                   0\n",
       "budget                  0\n",
       "genres                  0\n",
       "id                      0\n",
       "imdb_id                 0\n",
       "original_language       0\n",
       "original_title          0\n",
       "overview                0\n",
       "popularity              0\n",
       "production_companies    0\n",
       "production_countries    0\n",
       "release_date            0\n",
       "revenue                 0\n",
       "runtime                 0\n",
       "spoken_languages        0\n",
       "status                  0\n",
       "tagline                 0\n",
       "title                   0\n",
       "video                   0\n",
       "vote_average            0\n",
       "vote_count              0\n",
       "dtype: int64"
      ]
     },
     "execution_count": 154,
     "metadata": {},
     "output_type": "execute_result"
    }
   ],
   "source": [
    "#recheck for missing values\n",
    "runtime_df.isna().sum()"
   ]
  },
  {
   "cell_type": "markdown",
   "metadata": {},
   "source": [
    "There are no remaining missing values"
   ]
  },
  {
   "cell_type": "code",
   "execution_count": 156,
   "metadata": {},
   "outputs": [
    {
     "data": {
      "text/plain": [
       "<matplotlib.axes._subplots.AxesSubplot at 0x1a479b5908>"
      ]
     },
     "execution_count": 156,
     "metadata": {},
     "output_type": "execute_result"
    },
    {
     "data": {
      "image/png": "[encoded data removed]",
      "text/plain": [
       "<Figure size 432x288 with 1 Axes>"
      ]
     },
     "metadata": {
      "needs_background": "light"
     },
     "output_type": "display_data"
    }
   ],
   "source": [
    "#check distribution of runtime using boxplot\n",
    "runtime_df['runtime'].plot.box()"
   ]
  },
  {
   "cell_type": "code",
   "execution_count": 157,
   "metadata": {},
   "outputs": [
    {
     "data": {
      "text/plain": [
       "count    19753.000000\n",
       "mean        89.273933\n",
       "std         86.483475\n",
       "min          0.000000\n",
       "25%         83.000000\n",
       "50%         93.000000\n",
       "75%        107.000000\n",
       "max      10910.000000\n",
       "Name: runtime, dtype: float64"
      ]
     },
     "execution_count": 157,
     "metadata": {},
     "output_type": "execute_result"
    }
   ],
   "source": [
    "#display summary statistics \n",
    "runtime_df['runtime'].describe()"
   ]
  },
  {
   "cell_type": "markdown",
   "metadata": {},
   "source": [
    "Reviewing the boxplot and summary statistics, we see that median movie runtime is 93 minutes, with a standard deviation of 87 minutes.  Given the shape of the boxplot, we can see there is a clear positive skew.  There are also a number of outliers we can see in the boxplot, including one movie with a max runtime of 10910 minutes, and movies with runtimes of 0.  The mean and median are very similar, and given 95% of data is found within 2 standard deviations of the mean, I am going to remove movies with runtimes greater than 2 std above the mean, to remove outliers.  "
   ]
  },
  {
   "cell_type": "code",
   "execution_count": 162,
   "metadata": {},
   "outputs": [
    {
     "data": {
      "text/plain": [
       "262.2408835802707"
      ]
     },
     "execution_count": 162,
     "metadata": {},
     "output_type": "execute_result"
    }
   ],
   "source": [
    "#calculate iqr to remove runtime outliers\n",
    "two_std_above_mean = (runtime_df['runtime'].std()*2) + runtime_df['runtime'].mean()\n",
    "two_std_above_mean"
   ]
  },
  {
   "cell_type": "code",
   "execution_count": 164,
   "metadata": {},
   "outputs": [],
   "source": [
    "#remove movies with runtimes above this amount\n",
    "runtime_df = runtime_df.loc[runtime_df['runtime'] <= two_std_above_mean]"
   ]
  },
  {
   "cell_type": "code",
   "execution_count": 165,
   "metadata": {},
   "outputs": [
    {
     "data": {
      "text/plain": [
       "<matplotlib.axes._subplots.AxesSubplot at 0x1a48aee710>"
      ]
     },
     "execution_count": 165,
     "metadata": {},
     "output_type": "execute_result"
    },
    {
     "data": {
      "image/png": "[encoded data removed]",
      "text/plain": [
       "<Figure size 432x288 with 1 Axes>"
      ]
     },
     "metadata": {
      "needs_background": "light"
     },
     "output_type": "display_data"
    }
   ],
   "source": [
    "#recheck box plot\n",
    "runtime_df['runtime'].plot.box()"
   ]
  },
  {
   "cell_type": "code",
   "execution_count": 166,
   "metadata": {},
   "outputs": [
    {
     "data": {
      "text/plain": [
       "count    19730.000000\n",
       "mean        88.319311\n",
       "std         36.547457\n",
       "min          0.000000\n",
       "25%         83.000000\n",
       "50%         93.000000\n",
       "75%        107.000000\n",
       "max        260.000000\n",
       "Name: runtime, dtype: float64"
      ]
     },
     "execution_count": 166,
     "metadata": {},
     "output_type": "execute_result"
    }
   ],
   "source": [
    "#check summary stats\n",
    "runtime_df['runtime'].describe()"
   ]
  },
  {
   "cell_type": "markdown",
   "metadata": {},
   "source": [
    "With the effects of upper outliers removed, the distribution of our data is now more evident in the boxplot.  We now have a median runtime of 93 (no change), and a standard deviation of ~36 minutes.  "
   ]
  },
  {
   "cell_type": "code",
   "execution_count": 167,
   "metadata": {},
   "outputs": [
    {
     "data": {
      "text/plain": [
       "0.0      1177\n",
       "90.0     1150\n",
       "93.0      697\n",
       "95.0      497\n",
       "100.0     486\n",
       "         ... \n",
       "193.0       1\n",
       "217.0       1\n",
       "222.0       1\n",
       "210.0       1\n",
       "247.0       1\n",
       "Name: runtime, Length: 227, dtype: int64"
      ]
     },
     "execution_count": 167,
     "metadata": {},
     "output_type": "execute_result"
    }
   ],
   "source": [
    "#check what proportion of total runtimes are 0\n",
    "runtime_df['runtime'].value_counts()"
   ]
  },
  {
   "cell_type": "markdown",
   "metadata": {},
   "source": [
    "A movie with a runtime of 0 does not make conceptual sense, so cases where this exists must represent placeholder or missing information.  Check what percentage of all entries have a runtime of 0."
   ]
  },
  {
   "cell_type": "code",
   "execution_count": 170,
   "metadata": {},
   "outputs": [
    {
     "data": {
      "text/plain": [
       "0.05965534718702484"
      ]
     },
     "execution_count": 170,
     "metadata": {},
     "output_type": "execute_result"
    }
   ],
   "source": [
    "runtime_df.loc[runtime_df['runtime'] == 0].count()[1] / len(runtime_df)"
   ]
  },
  {
   "cell_type": "code",
   "execution_count": 171,
   "metadata": {},
   "outputs": [],
   "source": [
    "#0 runtimes represent ~6% of the data - - replace with median\n",
    "runtime_df['runtime'] = runtime_df['runtime'].replace(0.0, runtime_df['runtime'].median())"
   ]
  },
  {
   "cell_type": "code",
   "execution_count": 172,
   "metadata": {},
   "outputs": [
    {
     "data": {
      "text/plain": [
       "93.0     1874\n",
       "90.0     1150\n",
       "95.0      497\n",
       "100.0     486\n",
       "85.0      465\n",
       "         ... \n",
       "222.0       1\n",
       "205.0       1\n",
       "219.0       1\n",
       "217.0       1\n",
       "247.0       1\n",
       "Name: runtime, Length: 226, dtype: int64"
      ]
     },
     "execution_count": 172,
     "metadata": {},
     "output_type": "execute_result"
    }
   ],
   "source": [
    "#check it worked\n",
    "runtime_df['runtime'].value_counts()"
   ]
  },
  {
   "cell_type": "code",
   "execution_count": 173,
   "metadata": {},
   "outputs": [
    {
     "name": "stdout",
     "output_type": "stream",
     "text": [
      "<class 'pandas.core.frame.DataFrame'>\n",
      "Int64Index: 19730 entries, 0 to 19756\n",
      "Data columns (total 21 columns):\n",
      "adult                   19730 non-null object\n",
      "budget                  19730 non-null float64\n",
      "genres                  19730 non-null object\n",
      "id                      19730 non-null float64\n",
      "imdb_id                 19730 non-null object\n",
      "original_language       19730 non-null object\n",
      "original_title          19730 non-null object\n",
      "overview                19730 non-null object\n",
      "popularity              19730 non-null float64\n",
      "production_companies    19730 non-null object\n",
      "production_countries    19730 non-null object\n",
      "release_date            19730 non-null object\n",
      "revenue                 19730 non-null float64\n",
      "runtime                 19730 non-null float64\n",
      "spoken_languages        19730 non-null object\n",
      "status                  19730 non-null object\n",
      "tagline                 19730 non-null object\n",
      "title                   19730 non-null object\n",
      "video                   19730 non-null object\n",
      "vote_average            19730 non-null float64\n",
      "vote_count              19730 non-null float64\n",
      "dtypes: float64(7), object(14)\n",
      "memory usage: 3.3+ MB\n"
     ]
    }
   ],
   "source": [
    "#there are number of remaining outliers, but I have decided to not remove them as they may\n",
    "#inform performance of longer runtime movies, even though the majority are centered around 90 minutes\n",
    "runtime_df.info()"
   ]
  },
  {
   "cell_type": "code",
   "execution_count": 174,
   "metadata": {},
   "outputs": [
    {
     "data": {
      "text/plain": [
       "0.0           14689\n",
       "12000000.0        9\n",
       "2000000.0         7\n",
       "20000000.0        7\n",
       "2500000.0         5\n",
       "              ...  \n",
       "32140970.0        1\n",
       "64282312.0        1\n",
       "10827810.0        1\n",
       "99206215.0        1\n",
       "8642858.0         1\n",
       "Name: revenue, Length: 4919, dtype: int64"
      ]
     },
     "execution_count": 174,
     "metadata": {},
     "output_type": "execute_result"
    }
   ],
   "source": [
    "#check how many movies in our runtime df have revenue of 0\n",
    "runtime_df['revenue'].value_counts()"
   ]
  },
  {
   "cell_type": "code",
   "execution_count": 178,
   "metadata": {},
   "outputs": [
    {
     "data": {
      "text/plain": [
       "0.744500760263558"
      ]
     },
     "execution_count": 178,
     "metadata": {},
     "output_type": "execute_result"
    }
   ],
   "source": [
    "#calc percentage\n",
    "runtime_df.loc[runtime_df['revenue'] == 0].count()[1] / len(runtime_df)"
   ]
  },
  {
   "cell_type": "markdown",
   "metadata": {},
   "source": [
    "~75% of our dataset contains revenue of 0.  While it is possible that a movie does so poorly that it generates 0 revenue, it is more likely that these datapoints are missing revenue information.  As we are more concerned with those movies that generate positive revenue, I have chosen to only examine movies that contain positive revenue amounts"
   ]
  },
  {
   "cell_type": "code",
   "execution_count": 179,
   "metadata": {},
   "outputs": [],
   "source": [
    "#we are concerned with movies that generate positive revenue\n",
    "#so will remove all 0 revenue movies\n",
    "runtime_df = runtime_df.loc[runtime_df['revenue'] > 0]"
   ]
  },
  {
   "cell_type": "code",
   "execution_count": 180,
   "metadata": {
    "scrolled": true
   },
   "outputs": [
    {
     "data": {
      "image/png": "[encoded data removed]",
      "text/plain": [
       "<Figure size 720x360 with 1 Axes>"
      ]
     },
     "metadata": {
      "needs_background": "light"
     },
     "output_type": "display_data"
    }
   ],
   "source": [
    "#plot revenue vs. runtime to evaluate relationship between the two\n",
    "plt.figure(figsize=(10, 5))\n",
    "sns.scatterplot(x='runtime', y='revenue', data=runtime_df)\n",
    "plt.title('Movie Revenues vs. Runtime')\n",
    "plt.xlabel('Runtime in Minutes')\n",
    "plt.ylabel('Revenue')\n",
    "plt.show()"
   ]
  },
  {
   "cell_type": "markdown",
   "metadata": {},
   "source": [
    "From the graphic above, the highest grossing movies tend to have runtimes that fall between 2 and 3 hours.\n",
    "There seem to be diminishing returns to increasing runtime above 3 hours"
   ]
  },
  {
   "cell_type": "code",
   "execution_count": 181,
   "metadata": {},
   "outputs": [],
   "source": [
    "#create dataframes to evaluate data at different length movies\n",
    "movies_lt_30 = runtime_df.loc[runtime_df['runtime'] <= 30]\n",
    "movies_lt_60 = runtime_df.loc[(runtime_df['runtime'] > 30) &\n",
    "                              (runtime_df['runtime'] <= 60)]\n",
    "movies_lt_90 = runtime_df.loc[(runtime_df['runtime'] > 60) &\n",
    "                              (runtime_df['runtime'] <= 90)]\n",
    "movies_lt_120 = runtime_df.loc[(runtime_df['runtime'] > 90) &\n",
    "                               (runtime_df['runtime'] <= 120)]\n",
    "movies_lt_150 = runtime_df.loc[(runtime_df['runtime'] > 120) &\n",
    "                               (runtime_df['runtime'] <= 150)]\n",
    "movies_lt_180 = runtime_df.loc[(runtime_df['runtime'] > 150) &\n",
    "                               (runtime_df['runtime'] <= 180)]\n",
    "movies_gt_180 = runtime_df.loc[(runtime_df['runtime'] > 180)]"
   ]
  },
  {
   "cell_type": "code",
   "execution_count": 182,
   "metadata": {},
   "outputs": [],
   "source": [
    "#look at medians for each\n",
    "sub_30_median = movies_lt_30['revenue'].median()\n",
    "sub_60_median = movies_lt_60['revenue'].median()\n",
    "sub_90_median = movies_lt_90['revenue'].median()\n",
    "sub_120_median = movies_lt_120['revenue'].median()\n",
    "sub_150_median = movies_lt_150['revenue'].median()\n",
    "sub_180_median = movies_lt_180['revenue'].median()\n",
    "gt_180_median = movies_gt_180['revenue'].median()"
   ]
  },
  {
   "cell_type": "code",
   "execution_count": 183,
   "metadata": {},
   "outputs": [
    {
     "name": "stdout",
     "output_type": "stream",
     "text": [
      "Sub 30 Minute Movies Median Revenue: $4e-05 million\n",
      "30-60 Minute Movies Median Revenue: $0.41147 million\n",
      "60-90 Minute Movies Median Revenue: $15.3 million\n",
      "90-120 Minute Movies Median Revenue: $33.04 million\n",
      "120-150 Minute Movies Median Revenue: $79.05 million\n",
      "150-180 Minute Movies Median Revenue: $84.79 million\n",
      "Greater than 180 Minute Movies Median Revenue: $55.0 million\n"
     ]
    }
   ],
   "source": [
    "#print medians\n",
    "print(f'Sub 30 Minute Movies Median Revenue: ${round(sub_30_median/1000000, 5)} million')\n",
    "print(f'30-60 Minute Movies Median Revenue: ${round(sub_60_median / 1000000, 5)} million')\n",
    "print(f'60-90 Minute Movies Median Revenue: ${round(sub_90_median/1000000, 2)} million')\n",
    "print(f'90-120 Minute Movies Median Revenue: ${round(sub_120_median/1000000, 2)} million')\n",
    "print(f'120-150 Minute Movies Median Revenue: ${round(sub_150_median/1000000, 2)} million')\n",
    "print(f'150-180 Minute Movies Median Revenue: ${round(sub_180_median/1000000, 2)} million')\n",
    "print(f'Greater than 180 Minute Movies Median Revenue: ${round(gt_180_median/1000000,2)} million')"
   ]
  },
  {
   "cell_type": "code",
   "execution_count": 184,
   "metadata": {
    "scrolled": false
   },
   "outputs": [
    {
     "data": {
      "text/plain": [
       "Text(0, 0.5, 'Median Revenue')"
      ]
     },
     "execution_count": 184,
     "metadata": {},
     "output_type": "execute_result"
    },
    {
     "data": {
      "image/png": "[encoded data removed]",
      "text/plain": [
       "<Figure size 720x360 with 1 Axes>"
      ]
     },
     "metadata": {
      "needs_background": "light"
     },
     "output_type": "display_data"
    }
   ],
   "source": [
    "#bar chart comparing median revenue\n",
    "x = ['<30 mins', '30-60 mins', '60-90 mins',\n",
    "     '90-120 mins', '120-150 mins', '150-180 mins',\n",
    "     '>180 mins']\n",
    "y = [sub_30_median, sub_60_median, sub_90_median,\n",
    "     sub_120_median, sub_150_median, sub_180_median,\n",
    "     gt_180_median]\n",
    "colors = ['lightsalmon' if (x < max(y)) else 'darkred' for x in y]\n",
    "\n",
    "plt.figure(figsize=(10,5))\n",
    "sns.barplot(x=x, y=y, palette=colors)\n",
    "plt.title('Median Revenue by Runtime')\n",
    "plt.xlabel('Runtime')\n",
    "plt.ylabel(\"Median Revenue\")"
   ]
  },
  {
   "cell_type": "markdown",
   "metadata": {},
   "source": [
    "Similar to the scatterplot above, we see that movies with runtimes between 120 to 180 minutes tend to generate more revenue than movies with shorter or longer runtimes.  One explanation for this would be that larger budgets and more effort are put into longer length movies, and as a result generate more box office sales.  "
   ]
  },
  {
   "cell_type": "markdown",
   "metadata": {},
   "source": [
    "### Evaluate the Best Genres\n",
    "Outline:\n",
    "1. Import datasets\n",
    "2. Fill missing IMDB IDs\n",
    "3. Join imdb_title_basics df with revenue column from movies_df using imdb_id\n",
    "4. Pull in averagerating column\n",
    "5. Fill missing averagerating cells with the median\n",
    "6. Split clean dataframe into 2 datasets, one to sum aggregate statistics, one to take the median\n",
    "7. Create visualizations for the highest grossing genres and highest average rating genres"
   ]
  },
  {
   "cell_type": "code",
   "execution_count": 190,
   "metadata": {},
   "outputs": [],
   "source": [
    "#read in datasets\n",
    "imdb_name_basics = pd.read_csv('imdb.name.basics.csv')\n",
    "imdb_title_basics = pd.read_csv('imdb.title.basics.csv')\n",
    "imdb_title_crew = pd.read_csv('imdb.title.crew.csv')\n",
    "imdb_title_ratings = pd.read_csv('imdb.title.ratings.csv')"
   ]
  },
  {
   "cell_type": "code",
   "execution_count": 186,
   "metadata": {},
   "outputs": [
    {
     "name": "stdout",
     "output_type": "stream",
     "text": [
      "<class 'pandas.core.frame.DataFrame'>\n",
      "Int64Index: 19753 entries, 0 to 19756\n",
      "Data columns (total 21 columns):\n",
      "adult                   19753 non-null object\n",
      "budget                  19753 non-null float64\n",
      "genres                  19753 non-null object\n",
      "id                      19753 non-null float64\n",
      "imdb_id                 19753 non-null object\n",
      "original_language       19753 non-null object\n",
      "original_title          19753 non-null object\n",
      "overview                19753 non-null object\n",
      "popularity              19753 non-null float64\n",
      "production_companies    19753 non-null object\n",
      "production_countries    19753 non-null object\n",
      "release_date            19753 non-null object\n",
      "revenue                 19753 non-null float64\n",
      "runtime                 19753 non-null float64\n",
      "spoken_languages        19753 non-null object\n",
      "status                  19753 non-null object\n",
      "tagline                 19753 non-null object\n",
      "title                   19753 non-null object\n",
      "video                   19753 non-null object\n",
      "vote_average            19753 non-null float64\n",
      "vote_count              19753 non-null float64\n",
      "dtypes: float64(7), object(14)\n",
      "memory usage: 3.3+ MB\n"
     ]
    }
   ],
   "source": [
    "#examine dataframe\n",
    "movies_df.info()"
   ]
  },
  {
   "cell_type": "code",
   "execution_count": 188,
   "metadata": {},
   "outputs": [],
   "source": [
    "#set index to be imdb_id so we can join on this column\n",
    "movies_df.set_index('imdb_id', inplace=True)"
   ]
  },
  {
   "cell_type": "code",
   "execution_count": 189,
   "metadata": {},
   "outputs": [
    {
     "data": {
      "text/plain": [
       "False"
      ]
     },
     "execution_count": 189,
     "metadata": {},
     "output_type": "execute_result"
    }
   ],
   "source": [
    "#check for duplicates in the imdb_title_basics dataset\n",
    "imdb_title_basics.index.duplicated().any()"
   ]
  },
  {
   "cell_type": "code",
   "execution_count": 191,
   "metadata": {},
   "outputs": [],
   "source": [
    "#set imdb title basics index for use in join with movies_df\n",
    "imdb_title_basics.set_index('tconst', inplace=True)"
   ]
  },
  {
   "cell_type": "code",
   "execution_count": 192,
   "metadata": {},
   "outputs": [],
   "source": [
    "#join revenue data from movies_df, and create genres_df\n",
    "genres_df = imdb_title_basics.join(movies_df['revenue'])"
   ]
  },
  {
   "cell_type": "code",
   "execution_count": 193,
   "metadata": {},
   "outputs": [],
   "source": [
    "#set the index and pull in averagerating from imdb_title_ratings\n",
    "imdb_title_ratings.set_index('tconst', inplace=True)\n",
    "genres_df = genres_df.join(imdb_title_ratings['averagerating'])"
   ]
  },
  {
   "cell_type": "code",
   "execution_count": 194,
   "metadata": {},
   "outputs": [
    {
     "name": "stdout",
     "output_type": "stream",
     "text": [
      "<class 'pandas.core.frame.DataFrame'>\n",
      "Index: 146144 entries, tt0063540 to tt9916754\n",
      "Data columns (total 7 columns):\n",
      "primary_title      146144 non-null object\n",
      "original_title     146123 non-null object\n",
      "start_year         146144 non-null int64\n",
      "runtime_minutes    114405 non-null float64\n",
      "genres             140736 non-null object\n",
      "revenue            10244 non-null float64\n",
      "averagerating      73856 non-null float64\n",
      "dtypes: float64(3), int64(1), object(3)\n",
      "memory usage: 13.9+ MB\n"
     ]
    }
   ],
   "source": [
    "#examine dataframe\n",
    "genres_df.info()"
   ]
  },
  {
   "cell_type": "code",
   "execution_count": 195,
   "metadata": {},
   "outputs": [],
   "source": [
    "#drop runtime column as we won't be using it\n",
    "genres_df.drop(columns=['runtime_minutes'], inplace=True)"
   ]
  },
  {
   "cell_type": "code",
   "execution_count": 196,
   "metadata": {},
   "outputs": [
    {
     "name": "stdout",
     "output_type": "stream",
     "text": [
      "<class 'pandas.core.frame.DataFrame'>\n",
      "Index: 146144 entries, tt0063540 to tt9916754\n",
      "Data columns (total 6 columns):\n",
      "primary_title     146144 non-null object\n",
      "original_title    146123 non-null object\n",
      "start_year        146144 non-null int64\n",
      "genres            140736 non-null object\n",
      "revenue           10244 non-null float64\n",
      "averagerating     73856 non-null float64\n",
      "dtypes: float64(2), int64(1), object(3)\n",
      "memory usage: 12.8+ MB\n"
     ]
    }
   ],
   "source": [
    "genres_df.info()"
   ]
  },
  {
   "cell_type": "code",
   "execution_count": 197,
   "metadata": {},
   "outputs": [],
   "source": [
    "#given amount of missing revenue data, we will drop NaN revenue amounts\n",
    "genres_df = genres_df.dropna(subset=['revenue'])"
   ]
  },
  {
   "cell_type": "code",
   "execution_count": 198,
   "metadata": {},
   "outputs": [
    {
     "name": "stdout",
     "output_type": "stream",
     "text": [
      "<class 'pandas.core.frame.DataFrame'>\n",
      "Index: 10244 entries, tt0069049 to tt9914942\n",
      "Data columns (total 6 columns):\n",
      "primary_title     10244 non-null object\n",
      "original_title    10244 non-null object\n",
      "start_year        10244 non-null int64\n",
      "genres            10183 non-null object\n",
      "revenue           10244 non-null float64\n",
      "averagerating     8910 non-null float64\n",
      "dtypes: float64(2), int64(1), object(3)\n",
      "memory usage: 560.2+ KB\n"
     ]
    }
   ],
   "source": [
    "#examine the df\n",
    "genres_df.info()"
   ]
  },
  {
   "cell_type": "code",
   "execution_count": 199,
   "metadata": {},
   "outputs": [],
   "source": [
    "#fill missing genres with string \"NA\" - missing genres may be significant so I don't want to remove them from the dataset\n",
    "genres_df['genres'].fillna('NA', inplace=True)"
   ]
  },
  {
   "cell_type": "code",
   "execution_count": 200,
   "metadata": {},
   "outputs": [
    {
     "name": "stdout",
     "output_type": "stream",
     "text": [
      "<class 'pandas.core.frame.DataFrame'>\n",
      "Index: 10244 entries, tt0069049 to tt9914942\n",
      "Data columns (total 6 columns):\n",
      "primary_title     10244 non-null object\n",
      "original_title    10244 non-null object\n",
      "start_year        10244 non-null int64\n",
      "genres            10244 non-null object\n",
      "revenue           10244 non-null float64\n",
      "averagerating     8910 non-null float64\n",
      "dtypes: float64(2), int64(1), object(3)\n",
      "memory usage: 560.2+ KB\n"
     ]
    }
   ],
   "source": [
    "genres_df.info()"
   ]
  },
  {
   "cell_type": "code",
   "execution_count": 201,
   "metadata": {},
   "outputs": [],
   "source": [
    "#fill missing rating values with median\n",
    "genres_df['averagerating'] = genres_df['averagerating'].fillna(genres_df['averagerating'].median())"
   ]
  },
  {
   "cell_type": "code",
   "execution_count": 202,
   "metadata": {},
   "outputs": [
    {
     "name": "stdout",
     "output_type": "stream",
     "text": [
      "<class 'pandas.core.frame.DataFrame'>\n",
      "Index: 10244 entries, tt0069049 to tt9914942\n",
      "Data columns (total 6 columns):\n",
      "primary_title     10244 non-null object\n",
      "original_title    10244 non-null object\n",
      "start_year        10244 non-null int64\n",
      "genres            10244 non-null object\n",
      "revenue           10244 non-null float64\n",
      "averagerating     10244 non-null float64\n",
      "dtypes: float64(2), int64(1), object(3)\n",
      "memory usage: 560.2+ KB\n"
     ]
    }
   ],
   "source": [
    "genres_df.info()"
   ]
  },
  {
   "cell_type": "markdown",
   "metadata": {},
   "source": [
    "Data is now clean with no missing data.  Group `genres_df` by genre and create aggregate statistics using the sum and the median"
   ]
  },
  {
   "cell_type": "code",
   "execution_count": 203,
   "metadata": {},
   "outputs": [],
   "source": [
    "#group by genre and create 1 dataframe that shows the sum and one that shows median\n",
    "genres_sum_df = genres_df.groupby('genres').sum()\n",
    "genres_median_df = genres_df.groupby('genres').median()"
   ]
  },
  {
   "cell_type": "code",
   "execution_count": 204,
   "metadata": {},
   "outputs": [],
   "source": [
    "#sort dataframes by revenue\n",
    "genres_sum_df = genres_sum_df.sort_values('revenue', ascending=False)\n",
    "genres_median_df = genres_median_df.sort_values('revenue', ascending=False)"
   ]
  },
  {
   "cell_type": "code",
   "execution_count": 205,
   "metadata": {},
   "outputs": [
    {
     "data": {
      "text/plain": [
       "Text(0, 0.5, 'Sum of Revenue')"
      ]
     },
     "execution_count": 205,
     "metadata": {},
     "output_type": "execute_result"
    },
    {
     "data": {
      "image/png": "[encoded data removed]",
      "text/plain": [
       "<Figure size 720x360 with 1 Axes>"
      ]
     },
     "metadata": {
      "needs_background": "light"
     },
     "output_type": "display_data"
    }
   ],
   "source": [
    "#create bar charts of top 10 revenue generating genres / combinations\n",
    "fig = plt.figure(figsize=(10, 5))\n",
    "colors = ['darkred' for i in range(10)]\n",
    "\n",
    "sns.barplot(x=genres_sum_df.index[:10], \n",
    "            y='revenue', \n",
    "            data=genres_sum_df[:10],\n",
    "            palette=colors)\n",
    "\n",
    "plt.xticks(rotation=90)\n",
    "plt.title('Highest Grossing Genres / Genre Combinations')\n",
    "plt.xlabel('Genres / Genre Combinations')\n",
    "plt.ylabel('Sum of Revenue')"
   ]
  },
  {
   "cell_type": "markdown",
   "metadata": {},
   "source": [
    "We can see that over time, Action/Adventure/Sci-Fi has amassed the greatest revenue in aggregate, with Adventure/Animation/Comedy and Action/Adventure/Fantasy following.  While all time revenue as presented above is helpful, it does not say anything about how certain genres do in general.  To examine this, look at the highest median revenue movie genres."
   ]
  },
  {
   "cell_type": "code",
   "execution_count": 206,
   "metadata": {},
   "outputs": [
    {
     "data": {
      "text/plain": [
       "Text(0, 0.5, 'Median Revenue')"
      ]
     },
     "execution_count": 206,
     "metadata": {},
     "output_type": "execute_result"
    },
    {
     "data": {
      "image/png": "[encoded data removed]",
      "text/plain": [
       "<Figure size 720x360 with 1 Axes>"
      ]
     },
     "metadata": {
      "needs_background": "light"
     },
     "output_type": "display_data"
    }
   ],
   "source": [
    "#create bar chart for median revenue\n",
    "fig = plt.figure(figsize=(10, 5))\n",
    "colors = ['darkred' for i in range(10)]\n",
    "\n",
    "sns.barplot(x=genres_median_df.index[:10], \n",
    "            y='revenue', \n",
    "            data=genres_median_df[:10],\n",
    "            palette=colors)\n",
    "\n",
    "plt.xticks(rotation=90)\n",
    "plt.title('Highest Grossing Genres / Genre Combinations')\n",
    "plt.xlabel('Genres / Genre Combinations')\n",
    "plt.ylabel('Median Revenue')"
   ]
  },
  {
   "cell_type": "markdown",
   "metadata": {},
   "source": [
    "When looking at median revenue vs. all-time revenue we see Family/Fantasy/Musical movies tend to do best, and have significantly higher median revenue compared to other genres and genre combinations.  Median revenue related to Family/Fantasy/Musical movies is 1.3 billion compared to the next highest, Adventure/Fantasy/Mystery at ~$494 million"
   ]
  },
  {
   "cell_type": "code",
   "execution_count": 207,
   "metadata": {},
   "outputs": [],
   "source": [
    "#sort dataframes by rating\n",
    "genres_sum_df = genres_sum_df.sort_values('averagerating', ascending=False)\n",
    "genres_median_df = genres_median_df.sort_values('averagerating', ascending=False)"
   ]
  },
  {
   "cell_type": "code",
   "execution_count": 208,
   "metadata": {},
   "outputs": [
    {
     "data": {
      "text/plain": [
       "Text(0, 0.5, 'Sum of IMDB Ratings')"
      ]
     },
     "execution_count": 208,
     "metadata": {},
     "output_type": "execute_result"
    },
    {
     "data": {
      "image/png": "[encoded data removed]",
      "text/plain": [
       "<Figure size 720x360 with 1 Axes>"
      ]
     },
     "metadata": {
      "needs_background": "light"
     },
     "output_type": "display_data"
    }
   ],
   "source": [
    "#create visualization for sum of ratings\n",
    "fig = plt.figure(figsize=(10, 5))\n",
    "colors = ['darkred' for i in range(10)]\n",
    "\n",
    "sns.barplot(x=genres_sum_df.index[:10], \n",
    "            y='averagerating', \n",
    "            data=genres_sum_df[:10],\n",
    "            palette=colors)\n",
    "\n",
    "plt.xticks(rotation=90)\n",
    "plt.title('Highest Rated Genres')\n",
    "plt.xlabel('Genres / Genre Combinations')\n",
    "plt.ylabel('Sum of IMDB Ratings')"
   ]
  },
  {
   "cell_type": "markdown",
   "metadata": {},
   "source": [
    "When looking at sum of all ratings over time, we see that Drama, Documentary, and Comedy movies have been associated with highest ratings.  Similar to revenue, this shows aggregate information over time, but does not touch on how these movies tend to do in general.  Sum of ratings can be influenced by one very well performing movie in that genre, or more movies produced in that genre compared to others."
   ]
  },
  {
   "cell_type": "code",
   "execution_count": 209,
   "metadata": {},
   "outputs": [
    {
     "data": {
      "text/plain": [
       "Text(0, 0.5, 'Median IMDB Rating')"
      ]
     },
     "execution_count": 209,
     "metadata": {},
     "output_type": "execute_result"
    },
    {
     "data": {
      "image/png": "[encoded data removed]",
      "text/plain": [
       "<Figure size 720x360 with 1 Axes>"
      ]
     },
     "metadata": {
      "needs_background": "light"
     },
     "output_type": "display_data"
    }
   ],
   "source": [
    "#create visualization for median of ratings\n",
    "fig = plt.figure(figsize=(10, 5))\n",
    "colors = ['darkred' for i in range(10)]\n",
    "\n",
    "sns.barplot(x=genres_median_df.index[:10], \n",
    "            y='averagerating', \n",
    "            data=genres_median_df[:10],\n",
    "            palette=colors)\n",
    "\n",
    "plt.xticks(rotation=90)\n",
    "plt.title('Highest Rated Genres')\n",
    "plt.xlabel('Genres / Genre Combinations')\n",
    "plt.ylabel('Median IMDB Rating')"
   ]
  },
  {
   "cell_type": "markdown",
   "metadata": {},
   "source": [
    "When looking at median ratings, we still see that the combination of Comedy, Documentary, and Sports tends to do the best.  After Comedy/Documentary/Sports the median rating tends to fall off slightly, but remain close to or above a median average rating of 8.  "
   ]
  },
  {
   "cell_type": "code",
   "execution_count": 210,
   "metadata": {},
   "outputs": [
    {
     "data": {
      "text/plain": [
       "<matplotlib.axes._subplots.AxesSubplot at 0x1a37b4fda0>"
      ]
     },
     "execution_count": 210,
     "metadata": {},
     "output_type": "execute_result"
    },
    {
     "data": {
      "image/png": "[encoded data removed]",
      "text/plain": [
       "<Figure size 432x288 with 1 Axes>"
      ]
     },
     "metadata": {
      "needs_background": "light"
     },
     "output_type": "display_data"
    }
   ],
   "source": [
    "#evaluate the relationship between averagerating and revenue\n",
    "sns.scatterplot(x='averagerating', y='revenue', data=genres_df)"
   ]
  },
  {
   "cell_type": "code",
   "execution_count": 211,
   "metadata": {},
   "outputs": [
    {
     "data": {
      "text/plain": [
       "0.12491997946519989"
      ]
     },
     "execution_count": 211,
     "metadata": {},
     "output_type": "execute_result"
    }
   ],
   "source": [
    "#check the correlation between the 2\n",
    "genres_df['averagerating'].corr(genres_df['revenue'])"
   ]
  },
  {
   "cell_type": "markdown",
   "metadata": {},
   "source": [
    "While average rating and revenue are slightly positively correlated as shown above, the relationship is not as linear as I would have thought.  Furthermore, there are differences between the highest grossing genres and the highest rated genres.  This should be taken into consideration when evaluating if revenue or ratings is more important to go-forward performance."
   ]
  },
  {
   "cell_type": "markdown",
   "metadata": {},
   "source": [
    "## Question 2: How has domestic movie spend trended over time, and when is the best time during the year to release a movie?\n",
    "\n",
    "### Domestic Movie Spend\n",
    "Outline:\n",
    "1. Scrape boxofficemojo.com for domestic spend data by month and year\n",
    "2. Create dataframe from scraped results\n",
    "3. Look at summary statistics and distribution of gross domestic spend\n",
    "4. Group data by years and sum domestic spend to show domestic spend trends over time\n",
    "5. Create visualizations of annual domestic spend over time and monthly domestic spend over time\n",
    "6. Analyze seasonality of gross domestic spend by looking at spend differences throughout the year over time and create visualizations"
   ]
  },
  {
   "cell_type": "markdown",
   "metadata": {},
   "source": [
    "## Web Scrape to Pull Domestic Box Office Spend by Month"
   ]
  },
  {
   "cell_type": "code",
   "execution_count": 212,
   "metadata": {},
   "outputs": [],
   "source": [
    "#Scrape box office mojo to get Domestic box office spend by month\n",
    "from bs4 import BeautifulSoup\n",
    "url = 'https://www.boxofficemojo.com/month/january/?grossesOption=calendarGrosses'\n",
    "html_page = requests.get(url)\n",
    "soup = BeautifulSoup(html_page.content, 'html.parser')"
   ]
  },
  {
   "cell_type": "code",
   "execution_count": 213,
   "metadata": {},
   "outputs": [
    {
     "name": "stdout",
     "output_type": "stream",
     "text": [
      "Progress: [####################] 100.0%\n"
     ]
    }
   ],
   "source": [
    "#create list of months to scrape\n",
    "month_list = ['january', 'february', 'march', 'april', 'may',\n",
    "              'june', 'july', 'august', 'september', 'october',\n",
    "              'november', 'december']\n",
    "\n",
    "#empty lists to store scraped data\n",
    "months = []\n",
    "years = []\n",
    "gross_spend = []\n",
    "\n",
    "#class used in scraping data\n",
    "year_class = 'a-text-left mojo-header-column mojo-truncate mojo-field-type-year mojo-sort-column'\n",
    "\n",
    "#loop through all months and scrape data for all years\n",
    "for index, month in enumerate(month_list):\n",
    "    url = f'https://www.boxofficemojo.com/month/{month}/?grossesOption=calendarGrosses'\n",
    "    html_page = requests.get(url)\n",
    "    soup = BeautifulSoup(html_page.content, 'html.parser')\n",
    "    \n",
    "    for td in soup.findAll('td', class_=year_class):\n",
    "        years.append(td.text)\n",
    "        months.append(month)\n",
    "    \n",
    "    for index, td in enumerate(soup.findAll('td', class_='a-text-right mojo-field-type-money')):\n",
    "        if index%3 == 0:\n",
    "            gross_spend.append(td.text[1:].replace(',', ''))\n",
    "    \n",
    "    #sleep to slow down scrape\n",
    "    time.sleep(0.2)\n",
    "    update_progress(index / (len(month_list)-1))"
   ]
  },
  {
   "cell_type": "code",
   "execution_count": 214,
   "metadata": {},
   "outputs": [
    {
     "name": "stdout",
     "output_type": "stream",
     "text": [
      "521 521 521\n"
     ]
    }
   ],
   "source": [
    "#check everything is the same size\n",
    "print(len(months), len(years), len(gross_spend))"
   ]
  },
  {
   "cell_type": "code",
   "execution_count": 215,
   "metadata": {},
   "outputs": [],
   "source": [
    "#create dataframe from scraped results\n",
    "domestic_spend_df = pd.DataFrame([months, years, gross_spend]).transpose()\n",
    "columns = ['month', 'year', 'gross_dom_spend']\n",
    "domestic_spend_df.columns = columns"
   ]
  },
  {
   "cell_type": "code",
   "execution_count": 216,
   "metadata": {},
   "outputs": [
    {
     "name": "stdout",
     "output_type": "stream",
     "text": [
      "<class 'pandas.core.frame.DataFrame'>\n",
      "RangeIndex: 521 entries, 0 to 520\n",
      "Data columns (total 3 columns):\n",
      "month              521 non-null object\n",
      "year               521 non-null object\n",
      "gross_dom_spend    521 non-null object\n",
      "dtypes: object(3)\n",
      "memory usage: 12.3+ KB\n"
     ]
    }
   ],
   "source": [
    "#examine dataframe\n",
    "domestic_spend_df.info()"
   ]
  },
  {
   "cell_type": "code",
   "execution_count": 217,
   "metadata": {},
   "outputs": [],
   "source": [
    "#convert spend column to int so they are easier to work with\n",
    "domestic_spend_df['gross_dom_spend'] = domestic_spend_df['gross_dom_spend'].astype(int)"
   ]
  },
  {
   "cell_type": "code",
   "execution_count": 218,
   "metadata": {},
   "outputs": [
    {
     "name": "stdout",
     "output_type": "stream",
     "text": [
      "<class 'pandas.core.frame.DataFrame'>\n",
      "RangeIndex: 521 entries, 0 to 520\n",
      "Data columns (total 3 columns):\n",
      "month              521 non-null object\n",
      "year               521 non-null object\n",
      "gross_dom_spend    521 non-null int64\n",
      "dtypes: int64(1), object(2)\n",
      "memory usage: 12.3+ KB\n"
     ]
    }
   ],
   "source": [
    "#check changes\n",
    "domestic_spend_df.info()"
   ]
  },
  {
   "cell_type": "code",
   "execution_count": 219,
   "metadata": {},
   "outputs": [
    {
     "data": {
      "text/plain": [
       "Text(0.5, 1.0, 'Gross Domestic Distribution')"
      ]
     },
     "execution_count": 219,
     "metadata": {},
     "output_type": "execute_result"
    },
    {
     "data": {
      "image/png": "[encoded data removed]",
      "text/plain": [
       "<Figure size 720x360 with 1 Axes>"
      ]
     },
     "metadata": {
      "needs_background": "light"
     },
     "output_type": "display_data"
    }
   ],
   "source": [
    "#look at distribution and summary stats for gross_dom_spend\n",
    "plt.figure(figsize=(10, 5))\n",
    "sns.distplot(domestic_spend_df['gross_dom_spend'])\n",
    "plt.xlabel('Gross Domestic Spend')\n",
    "plt.ylabel('Frequency')\n",
    "plt.title('Gross Domestic Distribution')"
   ]
  },
  {
   "cell_type": "code",
   "execution_count": 220,
   "metadata": {},
   "outputs": [
    {
     "data": {
      "text/html": [
       "<div>\n",
       "<style scoped>\n",
       "    .dataframe tbody tr th:only-of-type {\n",
       "        vertical-align: middle;\n",
       "    }\n",
       "\n",
       "    .dataframe tbody tr th {\n",
       "        vertical-align: top;\n",
       "    }\n",
       "\n",
       "    .dataframe thead th {\n",
       "        text-align: right;\n",
       "    }\n",
       "</style>\n",
       "<table border=\"1\" class=\"dataframe\">\n",
       "  <thead>\n",
       "    <tr style=\"text-align: right;\">\n",
       "      <th></th>\n",
       "      <th>gross_dom_spend</th>\n",
       "    </tr>\n",
       "  </thead>\n",
       "  <tbody>\n",
       "    <tr>\n",
       "      <td>count</td>\n",
       "      <td>5.210000e+02</td>\n",
       "    </tr>\n",
       "    <tr>\n",
       "      <td>mean</td>\n",
       "      <td>5.529929e+08</td>\n",
       "    </tr>\n",
       "    <tr>\n",
       "      <td>std</td>\n",
       "      <td>3.306033e+08</td>\n",
       "    </tr>\n",
       "    <tr>\n",
       "      <td>min</td>\n",
       "      <td>5.201500e+04</td>\n",
       "    </tr>\n",
       "    <tr>\n",
       "      <td>25%</td>\n",
       "      <td>2.719556e+08</td>\n",
       "    </tr>\n",
       "    <tr>\n",
       "      <td>50%</td>\n",
       "      <td>5.110006e+08</td>\n",
       "    </tr>\n",
       "    <tr>\n",
       "      <td>75%</td>\n",
       "      <td>8.128497e+08</td>\n",
       "    </tr>\n",
       "    <tr>\n",
       "      <td>max</td>\n",
       "      <td>1.394221e+09</td>\n",
       "    </tr>\n",
       "  </tbody>\n",
       "</table>\n",
       "</div>"
      ],
      "text/plain": [
       "       gross_dom_spend\n",
       "count     5.210000e+02\n",
       "mean      5.529929e+08\n",
       "std       3.306033e+08\n",
       "min       5.201500e+04\n",
       "25%       2.719556e+08\n",
       "50%       5.110006e+08\n",
       "75%       8.128497e+08\n",
       "max       1.394221e+09"
      ]
     },
     "execution_count": 220,
     "metadata": {},
     "output_type": "execute_result"
    }
   ],
   "source": [
    "domestic_spend_df.describe()"
   ]
  },
  {
   "cell_type": "markdown",
   "metadata": {},
   "source": [
    "Gross domestic spend has a slight bimodal distribution with a slight positive skew.  75% of monthly gross domestic spend data falls under 813 million, with the median at 511 million, and a standard deviation of 330 million.  A standard deviation of 330 million is fairly high, implying there is a good amount of variability in spend between months"
   ]
  },
  {
   "cell_type": "code",
   "execution_count": 224,
   "metadata": {},
   "outputs": [],
   "source": [
    "#convert month and year columns to ints \n",
    "conversion_dict = {'january': 1, 'february': 2, 'march': 3, 'april': 4, 'may': 5,\n",
    "                   'june': 6, 'july': 7, 'august': 8, 'september': 9, 'october': 10,\n",
    "                   'november': 11, 'december': 12}\n",
    "domestic_spend_df['month'] = domestic_spend_df['month'].apply(lambda x: conversion_dict[x])"
   ]
  },
  {
   "cell_type": "code",
   "execution_count": 225,
   "metadata": {},
   "outputs": [],
   "source": [
    "domestic_spend_df['year'] = domestic_spend_df['year'].astype(int)"
   ]
  },
  {
   "cell_type": "code",
   "execution_count": 226,
   "metadata": {},
   "outputs": [
    {
     "data": {
      "text/html": [
       "<div>\n",
       "<style scoped>\n",
       "    .dataframe tbody tr th:only-of-type {\n",
       "        vertical-align: middle;\n",
       "    }\n",
       "\n",
       "    .dataframe tbody tr th {\n",
       "        vertical-align: top;\n",
       "    }\n",
       "\n",
       "    .dataframe thead th {\n",
       "        text-align: right;\n",
       "    }\n",
       "</style>\n",
       "<table border=\"1\" class=\"dataframe\">\n",
       "  <thead>\n",
       "    <tr style=\"text-align: right;\">\n",
       "      <th></th>\n",
       "      <th>year</th>\n",
       "      <th>month</th>\n",
       "      <th>gross_dom_spend</th>\n",
       "    </tr>\n",
       "  </thead>\n",
       "  <tbody>\n",
       "    <tr>\n",
       "      <td>0</td>\n",
       "      <td>1972</td>\n",
       "      <td>15</td>\n",
       "      <td>218262039</td>\n",
       "    </tr>\n",
       "    <tr>\n",
       "      <td>1</td>\n",
       "      <td>1975</td>\n",
       "      <td>24</td>\n",
       "      <td>260000000</td>\n",
       "    </tr>\n",
       "    <tr>\n",
       "      <td>2</td>\n",
       "      <td>1976</td>\n",
       "      <td>25</td>\n",
       "      <td>113537424</td>\n",
       "    </tr>\n",
       "    <tr>\n",
       "      <td>3</td>\n",
       "      <td>1977</td>\n",
       "      <td>68</td>\n",
       "      <td>443497461</td>\n",
       "    </tr>\n",
       "    <tr>\n",
       "      <td>4</td>\n",
       "      <td>1978</td>\n",
       "      <td>46</td>\n",
       "      <td>826413013</td>\n",
       "    </tr>\n",
       "  </tbody>\n",
       "</table>\n",
       "</div>"
      ],
      "text/plain": [
       "   year  month  gross_dom_spend\n",
       "0  1972     15        218262039\n",
       "1  1975     24        260000000\n",
       "2  1976     25        113537424\n",
       "3  1977     68        443497461\n",
       "4  1978     46        826413013"
      ]
     },
     "execution_count": 226,
     "metadata": {},
     "output_type": "execute_result"
    }
   ],
   "source": [
    "#group_df by year to show cumulative spend stats over time by year using sum\n",
    "year_df = domestic_spend_df.groupby('year', as_index=False).sum()\n",
    "year_df.head()"
   ]
  },
  {
   "cell_type": "code",
   "execution_count": 227,
   "metadata": {
    "scrolled": false
   },
   "outputs": [
    {
     "data": {
      "text/plain": [
       "Text(0.5, 0, 'Year')"
      ]
     },
     "execution_count": 227,
     "metadata": {},
     "output_type": "execute_result"
    },
    {
     "data": {
      "image/png": "[encoded data removed]",
      "text/plain": [
       "<Figure size 720x360 with 1 Axes>"
      ]
     },
     "metadata": {
      "needs_background": "light"
     },
     "output_type": "display_data"
    }
   ],
   "source": [
    "#scatter plot of gross_dom_spend over time\n",
    "plt.figure(figsize=(10, 5))\n",
    "sns.scatterplot(x='year', y='gross_dom_spend', data=year_df)\n",
    "plt.title('Gross Domestic Spend Over Time')\n",
    "plt.ylabel('Gross Domestic Spend')\n",
    "plt.xlabel('Year')"
   ]
  },
  {
   "cell_type": "markdown",
   "metadata": {},
   "source": [
    "Gross Domestic Spend has shown consistent growth since the 1970s through today.  2020 datapoint only contains partial year data, so appears lower than other years"
   ]
  },
  {
   "cell_type": "code",
   "execution_count": 228,
   "metadata": {},
   "outputs": [],
   "source": [
    "#convert month and year back to strings to convert to datetime\n",
    "domestic_spend_df['month'] = domestic_spend_df['month'].astype(str)\n",
    "domestic_spend_df['year'] = domestic_spend_df['year'].astype(str)"
   ]
  },
  {
   "cell_type": "code",
   "execution_count": 229,
   "metadata": {},
   "outputs": [
    {
     "data": {
      "text/html": [
       "<div>\n",
       "<style scoped>\n",
       "    .dataframe tbody tr th:only-of-type {\n",
       "        vertical-align: middle;\n",
       "    }\n",
       "\n",
       "    .dataframe tbody tr th {\n",
       "        vertical-align: top;\n",
       "    }\n",
       "\n",
       "    .dataframe thead th {\n",
       "        text-align: right;\n",
       "    }\n",
       "</style>\n",
       "<table border=\"1\" class=\"dataframe\">\n",
       "  <thead>\n",
       "    <tr style=\"text-align: right;\">\n",
       "      <th></th>\n",
       "      <th>month</th>\n",
       "      <th>year</th>\n",
       "      <th>gross_dom_spend</th>\n",
       "    </tr>\n",
       "  </thead>\n",
       "  <tbody>\n",
       "    <tr>\n",
       "      <td>0</td>\n",
       "      <td>1</td>\n",
       "      <td>2020</td>\n",
       "      <td>897742569</td>\n",
       "    </tr>\n",
       "    <tr>\n",
       "      <td>1</td>\n",
       "      <td>1</td>\n",
       "      <td>2019</td>\n",
       "      <td>812849718</td>\n",
       "    </tr>\n",
       "    <tr>\n",
       "      <td>2</td>\n",
       "      <td>1</td>\n",
       "      <td>2018</td>\n",
       "      <td>958572920</td>\n",
       "    </tr>\n",
       "    <tr>\n",
       "      <td>3</td>\n",
       "      <td>1</td>\n",
       "      <td>2017</td>\n",
       "      <td>958541647</td>\n",
       "    </tr>\n",
       "    <tr>\n",
       "      <td>4</td>\n",
       "      <td>1</td>\n",
       "      <td>2016</td>\n",
       "      <td>1035615039</td>\n",
       "    </tr>\n",
       "  </tbody>\n",
       "</table>\n",
       "</div>"
      ],
      "text/plain": [
       "  month  year  gross_dom_spend\n",
       "0     1  2020        897742569\n",
       "1     1  2019        812849718\n",
       "2     1  2018        958572920\n",
       "3     1  2017        958541647\n",
       "4     1  2016       1035615039"
      ]
     },
     "execution_count": 229,
     "metadata": {},
     "output_type": "execute_result"
    }
   ],
   "source": [
    "domestic_spend_df.head()"
   ]
  },
  {
   "cell_type": "code",
   "execution_count": 230,
   "metadata": {},
   "outputs": [],
   "source": [
    "#create date column that will be converted to datetime\n",
    "domestic_spend_df['date'] = domestic_spend_df['year'] + '-' + domestic_spend_df['month'] + '-1'\n"
   ]
  },
  {
   "cell_type": "code",
   "execution_count": 231,
   "metadata": {},
   "outputs": [
    {
     "data": {
      "text/html": [
       "<div>\n",
       "<style scoped>\n",
       "    .dataframe tbody tr th:only-of-type {\n",
       "        vertical-align: middle;\n",
       "    }\n",
       "\n",
       "    .dataframe tbody tr th {\n",
       "        vertical-align: top;\n",
       "    }\n",
       "\n",
       "    .dataframe thead th {\n",
       "        text-align: right;\n",
       "    }\n",
       "</style>\n",
       "<table border=\"1\" class=\"dataframe\">\n",
       "  <thead>\n",
       "    <tr style=\"text-align: right;\">\n",
       "      <th></th>\n",
       "      <th>month</th>\n",
       "      <th>year</th>\n",
       "      <th>gross_dom_spend</th>\n",
       "      <th>date</th>\n",
       "    </tr>\n",
       "  </thead>\n",
       "  <tbody>\n",
       "    <tr>\n",
       "      <td>0</td>\n",
       "      <td>1</td>\n",
       "      <td>2020</td>\n",
       "      <td>897742569</td>\n",
       "      <td>2020-1-1</td>\n",
       "    </tr>\n",
       "    <tr>\n",
       "      <td>1</td>\n",
       "      <td>1</td>\n",
       "      <td>2019</td>\n",
       "      <td>812849718</td>\n",
       "      <td>2019-1-1</td>\n",
       "    </tr>\n",
       "    <tr>\n",
       "      <td>2</td>\n",
       "      <td>1</td>\n",
       "      <td>2018</td>\n",
       "      <td>958572920</td>\n",
       "      <td>2018-1-1</td>\n",
       "    </tr>\n",
       "    <tr>\n",
       "      <td>3</td>\n",
       "      <td>1</td>\n",
       "      <td>2017</td>\n",
       "      <td>958541647</td>\n",
       "      <td>2017-1-1</td>\n",
       "    </tr>\n",
       "    <tr>\n",
       "      <td>4</td>\n",
       "      <td>1</td>\n",
       "      <td>2016</td>\n",
       "      <td>1035615039</td>\n",
       "      <td>2016-1-1</td>\n",
       "    </tr>\n",
       "  </tbody>\n",
       "</table>\n",
       "</div>"
      ],
      "text/plain": [
       "  month  year  gross_dom_spend      date\n",
       "0     1  2020        897742569  2020-1-1\n",
       "1     1  2019        812849718  2019-1-1\n",
       "2     1  2018        958572920  2018-1-1\n",
       "3     1  2017        958541647  2017-1-1\n",
       "4     1  2016       1035615039  2016-1-1"
      ]
     },
     "execution_count": 231,
     "metadata": {},
     "output_type": "execute_result"
    }
   ],
   "source": [
    "#check that it worked\n",
    "domestic_spend_df.head()"
   ]
  },
  {
   "cell_type": "code",
   "execution_count": 232,
   "metadata": {},
   "outputs": [],
   "source": [
    "#convert date column to datetime object\n",
    "import datetime as dt\n",
    "domestic_spend_df['date'] = domestic_spend_df['date'].apply(lambda x: dt.datetime.strptime(x, '%Y-%m-%d'))"
   ]
  },
  {
   "cell_type": "code",
   "execution_count": 233,
   "metadata": {},
   "outputs": [
    {
     "name": "stdout",
     "output_type": "stream",
     "text": [
      "<class 'pandas.core.frame.DataFrame'>\n",
      "RangeIndex: 521 entries, 0 to 520\n",
      "Data columns (total 4 columns):\n",
      "month              521 non-null object\n",
      "year               521 non-null object\n",
      "gross_dom_spend    521 non-null int64\n",
      "date               521 non-null datetime64[ns]\n",
      "dtypes: datetime64[ns](1), int64(1), object(2)\n",
      "memory usage: 16.4+ KB\n"
     ]
    }
   ],
   "source": [
    "#look at info\n",
    "domestic_spend_df.info()"
   ]
  },
  {
   "cell_type": "code",
   "execution_count": 234,
   "metadata": {},
   "outputs": [
    {
     "data": {
      "image/png": "[encoded data removed]",
      "text/plain": [
       "<Figure size 1080x360 with 1 Axes>"
      ]
     },
     "metadata": {
      "needs_background": "light"
     },
     "output_type": "display_data"
    }
   ],
   "source": [
    "#create a graph showing gross domestic spend over time\n",
    "#add register_matplotlib_converters() to silence warnings\n",
    "from pandas.plotting import register_matplotlib_converters\n",
    "register_matplotlib_converters() \n",
    "\n",
    "plt.figure(figsize=(15, 5))\n",
    "ax = sns.scatterplot(x='date', y='gross_dom_spend', data=domestic_spend_df)\n",
    "plt.title('Gross Domestic Spend Over Time')\n",
    "plt.xlabel('Year')\n",
    "plt.ylabel('Gross Domestic Spend')\n",
    "plt.show()\n"
   ]
  },
  {
   "cell_type": "markdown",
   "metadata": {},
   "source": [
    "As shown above in the visualization of annual gross domestic spend over time, we see a similar pattern with monthly gross domestic spend over time.  Monthly gross domestic spend appears to have more variability the closer you get to 2020."
   ]
  },
  {
   "cell_type": "code",
   "execution_count": 235,
   "metadata": {},
   "outputs": [],
   "source": [
    "#convert back to int to evaluate seasonality\n",
    "domestic_spend_df['month'] = domestic_spend_df['month'].astype(int)\n",
    "domestic_spend_df['year'] = domestic_spend_df['year'].astype(int)"
   ]
  },
  {
   "cell_type": "code",
   "execution_count": 236,
   "metadata": {},
   "outputs": [
    {
     "data": {
      "image/png": "[encoded data removed]",
      "text/plain": [
       "<Figure size 1080x360 with 1 Axes>"
      ]
     },
     "metadata": {
      "needs_background": "light"
     },
     "output_type": "display_data"
    }
   ],
   "source": [
    "#create a line graph with error bars showing seasonality of movies\n",
    "plt.figure(figsize=(15, 5))\n",
    "xticks = np.arange(1,13)\n",
    "sns.lineplot(x='month', y='gross_dom_spend', data=domestic_spend_df)\n",
    "plt.title('Gross Domestic Spend Seasonality')\n",
    "xlabels = ['January', 'February', 'March', 'April', \n",
    "           'May', 'June', 'July', 'August', 'September', \n",
    "           'October', 'November', 'December']\n",
    "plt.xticks(ticks=xticks, labels=xlabels)\n",
    "plt.xlabel('Month')\n",
    "plt.ylabel('Gross Domestic Spend')\n",
    "plt.show()"
   ]
  },
  {
   "cell_type": "markdown",
   "metadata": {},
   "source": [
    "There are clear peaks in gross domestic produce in the summer months, with a smaller peak also occurring in the winter months.  While summer months tend to prodcue the highest median gross domestic spend, the variability and error bars around these months also appears highest"
   ]
  },
  {
   "cell_type": "code",
   "execution_count": 237,
   "metadata": {},
   "outputs": [
    {
     "data": {
      "text/plain": [
       "Text(0, 0.5, 'Gross Domestic Spend')"
      ]
     },
     "execution_count": 237,
     "metadata": {},
     "output_type": "execute_result"
    },
    {
     "data": {
      "image/png": "[encoded data removed]",
      "text/plain": [
       "<Figure size 1080x360 with 1 Axes>"
      ]
     },
     "metadata": {
      "needs_background": "light"
     },
     "output_type": "display_data"
    }
   ],
   "source": [
    "#plot boxplots for each month to show distributions\n",
    "plt.figure(figsize=(15, 5))\n",
    "colors = ['lightsalmon' if (x < 5) |  (x > 7) else 'darkred' for x in range(12)]\n",
    "\n",
    "sns.boxplot(x='month', y='gross_dom_spend', data=domestic_spend_df, palette=colors)\n",
    "xticks = np.arange(12)\n",
    "xlabels = ['January', 'February', 'March', 'April', \n",
    "           'May', 'June', 'July', 'August', 'September', \n",
    "           'October', 'November', 'December']\n",
    "\n",
    "plt.xticks(ticks=xticks, labels=xlabels)\n",
    "plt.title('Gross Domestic Spend by Month')\n",
    "plt.xlabel('Month')\n",
    "plt.ylabel('Gross Domestic Spend')"
   ]
  },
  {
   "cell_type": "code",
   "execution_count": 238,
   "metadata": {},
   "outputs": [
    {
     "data": {
      "text/plain": [
       "month              0.000000e+00\n",
       "year               1.313393e+01\n",
       "gross_dom_spend    4.201236e+08\n",
       "dtype: float64"
      ]
     },
     "execution_count": 238,
     "metadata": {},
     "output_type": "execute_result"
    }
   ],
   "source": [
    "domestic_spend_df.loc[domestic_spend_df['month'] == 7].std()"
   ]
  },
  {
   "cell_type": "code",
   "execution_count": 239,
   "metadata": {},
   "outputs": [
    {
     "data": {
      "text/plain": [
       "month              0.000000e+00\n",
       "year               1.255654e+01\n",
       "gross_dom_spend    2.533268e+08\n",
       "dtype: float64"
      ]
     },
     "execution_count": 239,
     "metadata": {},
     "output_type": "execute_result"
    }
   ],
   "source": [
    "domestic_spend_df.loc[domestic_spend_df['month'] == 2].std()"
   ]
  },
  {
   "cell_type": "markdown",
   "metadata": {},
   "source": [
    "While the summer months tend to coincide with higher domestic spend, the variance also tends to be higher.  As an example, standard deviation for the month of July is 420 million compared to ~250 million in February.  Targeting movie release in the fall or spring will generally coincide with lower gross domestic spend, but it will vary less and be more closely distributed to the median."
   ]
  },
  {
   "cell_type": "markdown",
   "metadata": {},
   "source": [
    "## Question 3: Which writers should be hired to produce the highest grossing movies?\n",
    "\n",
    "#### Movie Writer Analysis\n",
    "Outline:\n",
    "1. Import necessary datasets\n",
    "2. Movies can contain multiple writers, so in these cases, convert writers cell to a list and split each writer onto their own row\n",
    "3. Join imdb_name_basics to pull in writer names\n",
    "4. Create df from movies_df containing IMDB ID and revenue\n",
    "5. Group by imdb_id and join with writers df\n",
    "6. Group by writer and evaluate highest revenue writers\n",
    "7. Produce visualizations"
   ]
  },
  {
   "cell_type": "code",
   "execution_count": 241,
   "metadata": {},
   "outputs": [
    {
     "name": "stdout",
     "output_type": "stream",
     "text": [
      "<class 'pandas.core.frame.DataFrame'>\n",
      "RangeIndex: 146144 entries, 0 to 146143\n",
      "Data columns (total 3 columns):\n",
      "tconst       146144 non-null object\n",
      "directors    140417 non-null object\n",
      "writers      110261 non-null object\n",
      "dtypes: object(3)\n",
      "memory usage: 3.3+ MB\n"
     ]
    }
   ],
   "source": [
    "#import crew dataset\n",
    "imdb_title_crew = pd.read_csv('imdb.title.crew.csv')\n",
    "imdb_title_crew.info()"
   ]
  },
  {
   "cell_type": "code",
   "execution_count": 242,
   "metadata": {},
   "outputs": [
    {
     "data": {
      "text/html": [
       "<div>\n",
       "<style scoped>\n",
       "    .dataframe tbody tr th:only-of-type {\n",
       "        vertical-align: middle;\n",
       "    }\n",
       "\n",
       "    .dataframe tbody tr th {\n",
       "        vertical-align: top;\n",
       "    }\n",
       "\n",
       "    .dataframe thead th {\n",
       "        text-align: right;\n",
       "    }\n",
       "</style>\n",
       "<table border=\"1\" class=\"dataframe\">\n",
       "  <thead>\n",
       "    <tr style=\"text-align: right;\">\n",
       "      <th></th>\n",
       "      <th>tconst</th>\n",
       "      <th>directors</th>\n",
       "      <th>writers</th>\n",
       "    </tr>\n",
       "  </thead>\n",
       "  <tbody>\n",
       "    <tr>\n",
       "      <td>0</td>\n",
       "      <td>tt0285252</td>\n",
       "      <td>nm0899854</td>\n",
       "      <td>nm0899854</td>\n",
       "    </tr>\n",
       "    <tr>\n",
       "      <td>1</td>\n",
       "      <td>tt0438973</td>\n",
       "      <td>NaN</td>\n",
       "      <td>nm0175726,nm1802864</td>\n",
       "    </tr>\n",
       "    <tr>\n",
       "      <td>2</td>\n",
       "      <td>tt0462036</td>\n",
       "      <td>nm1940585</td>\n",
       "      <td>nm1940585</td>\n",
       "    </tr>\n",
       "    <tr>\n",
       "      <td>3</td>\n",
       "      <td>tt0835418</td>\n",
       "      <td>nm0151540</td>\n",
       "      <td>nm0310087,nm0841532</td>\n",
       "    </tr>\n",
       "    <tr>\n",
       "      <td>4</td>\n",
       "      <td>tt0878654</td>\n",
       "      <td>nm0089502,nm2291498,nm2292011</td>\n",
       "      <td>nm0284943</td>\n",
       "    </tr>\n",
       "  </tbody>\n",
       "</table>\n",
       "</div>"
      ],
      "text/plain": [
       "      tconst                      directors              writers\n",
       "0  tt0285252                      nm0899854            nm0899854\n",
       "1  tt0438973                            NaN  nm0175726,nm1802864\n",
       "2  tt0462036                      nm1940585            nm1940585\n",
       "3  tt0835418                      nm0151540  nm0310087,nm0841532\n",
       "4  tt0878654  nm0089502,nm2291498,nm2292011            nm0284943"
      ]
     },
     "execution_count": 242,
     "metadata": {},
     "output_type": "execute_result"
    }
   ],
   "source": [
    "#examine the crew dataset\n",
    "imdb_title_crew.head()"
   ]
  },
  {
   "cell_type": "code",
   "execution_count": 243,
   "metadata": {},
   "outputs": [],
   "source": [
    "#as shown, the data lists multiple writers in the same cell\n",
    "#split the writers rows into a list of writers\n",
    "imdb_title_crew['writers_list'] = imdb_title_crew['writers'].apply(lambda x: str(x).split(','))"
   ]
  },
  {
   "cell_type": "code",
   "execution_count": 244,
   "metadata": {},
   "outputs": [
    {
     "data": {
      "text/html": [
       "<div>\n",
       "<style scoped>\n",
       "    .dataframe tbody tr th:only-of-type {\n",
       "        vertical-align: middle;\n",
       "    }\n",
       "\n",
       "    .dataframe tbody tr th {\n",
       "        vertical-align: top;\n",
       "    }\n",
       "\n",
       "    .dataframe thead th {\n",
       "        text-align: right;\n",
       "    }\n",
       "</style>\n",
       "<table border=\"1\" class=\"dataframe\">\n",
       "  <thead>\n",
       "    <tr style=\"text-align: right;\">\n",
       "      <th></th>\n",
       "      <th>tconst</th>\n",
       "      <th>directors</th>\n",
       "      <th>writers</th>\n",
       "      <th>writers_list</th>\n",
       "    </tr>\n",
       "  </thead>\n",
       "  <tbody>\n",
       "    <tr>\n",
       "      <td>0</td>\n",
       "      <td>tt0285252</td>\n",
       "      <td>nm0899854</td>\n",
       "      <td>nm0899854</td>\n",
       "      <td>[nm0899854]</td>\n",
       "    </tr>\n",
       "    <tr>\n",
       "      <td>1</td>\n",
       "      <td>tt0438973</td>\n",
       "      <td>NaN</td>\n",
       "      <td>nm0175726,nm1802864</td>\n",
       "      <td>[nm0175726, nm1802864]</td>\n",
       "    </tr>\n",
       "    <tr>\n",
       "      <td>2</td>\n",
       "      <td>tt0462036</td>\n",
       "      <td>nm1940585</td>\n",
       "      <td>nm1940585</td>\n",
       "      <td>[nm1940585]</td>\n",
       "    </tr>\n",
       "    <tr>\n",
       "      <td>3</td>\n",
       "      <td>tt0835418</td>\n",
       "      <td>nm0151540</td>\n",
       "      <td>nm0310087,nm0841532</td>\n",
       "      <td>[nm0310087, nm0841532]</td>\n",
       "    </tr>\n",
       "    <tr>\n",
       "      <td>4</td>\n",
       "      <td>tt0878654</td>\n",
       "      <td>nm0089502,nm2291498,nm2292011</td>\n",
       "      <td>nm0284943</td>\n",
       "      <td>[nm0284943]</td>\n",
       "    </tr>\n",
       "  </tbody>\n",
       "</table>\n",
       "</div>"
      ],
      "text/plain": [
       "      tconst                      directors              writers  \\\n",
       "0  tt0285252                      nm0899854            nm0899854   \n",
       "1  tt0438973                            NaN  nm0175726,nm1802864   \n",
       "2  tt0462036                      nm1940585            nm1940585   \n",
       "3  tt0835418                      nm0151540  nm0310087,nm0841532   \n",
       "4  tt0878654  nm0089502,nm2291498,nm2292011            nm0284943   \n",
       "\n",
       "             writers_list  \n",
       "0             [nm0899854]  \n",
       "1  [nm0175726, nm1802864]  \n",
       "2             [nm1940585]  \n",
       "3  [nm0310087, nm0841532]  \n",
       "4             [nm0284943]  "
      ]
     },
     "execution_count": 244,
     "metadata": {},
     "output_type": "execute_result"
    }
   ],
   "source": [
    "#check that it worked\n",
    "imdb_title_crew.head()"
   ]
  },
  {
   "cell_type": "code",
   "execution_count": 245,
   "metadata": {},
   "outputs": [],
   "source": [
    "#looking for total writer attribution, so for movies with multiple\n",
    "#writers, split them onto their own rows\n",
    "list_col = 'writers_list'\n",
    "movie_ids = np.repeat(imdb_title_crew['tconst'].values,\n",
    "                      imdb_title_crew[list_col].str.len())"
   ]
  },
  {
   "cell_type": "code",
   "execution_count": 246,
   "metadata": {},
   "outputs": [],
   "source": [
    "writers_ids = np.concatenate(imdb_title_crew[list_col].values)"
   ]
  },
  {
   "cell_type": "code",
   "execution_count": 247,
   "metadata": {},
   "outputs": [
    {
     "data": {
      "text/plain": [
       "214235"
      ]
     },
     "execution_count": 247,
     "metadata": {},
     "output_type": "execute_result"
    }
   ],
   "source": [
    "len(movie_ids)"
   ]
  },
  {
   "cell_type": "code",
   "execution_count": 248,
   "metadata": {},
   "outputs": [
    {
     "data": {
      "text/plain": [
       "214235"
      ]
     },
     "execution_count": 248,
     "metadata": {},
     "output_type": "execute_result"
    }
   ],
   "source": [
    "len(writers_ids)"
   ]
  },
  {
   "cell_type": "code",
   "execution_count": 249,
   "metadata": {},
   "outputs": [],
   "source": [
    "#create dataframes and join relevant columns\n",
    "writers = pd.DataFrame(writers_ids)\n",
    "movies = pd.DataFrame(movie_ids)"
   ]
  },
  {
   "cell_type": "code",
   "execution_count": 250,
   "metadata": {},
   "outputs": [],
   "source": [
    "writers = writers.join(movies, how='outer', rsuffix='_tmdb')"
   ]
  },
  {
   "cell_type": "code",
   "execution_count": 251,
   "metadata": {},
   "outputs": [],
   "source": [
    "writers.columns = ['writerID', 'imdb_id']"
   ]
  },
  {
   "cell_type": "code",
   "execution_count": 252,
   "metadata": {},
   "outputs": [
    {
     "data": {
      "text/html": [
       "<div>\n",
       "<style scoped>\n",
       "    .dataframe tbody tr th:only-of-type {\n",
       "        vertical-align: middle;\n",
       "    }\n",
       "\n",
       "    .dataframe tbody tr th {\n",
       "        vertical-align: top;\n",
       "    }\n",
       "\n",
       "    .dataframe thead th {\n",
       "        text-align: right;\n",
       "    }\n",
       "</style>\n",
       "<table border=\"1\" class=\"dataframe\">\n",
       "  <thead>\n",
       "    <tr style=\"text-align: right;\">\n",
       "      <th></th>\n",
       "      <th>writerID</th>\n",
       "      <th>imdb_id</th>\n",
       "    </tr>\n",
       "  </thead>\n",
       "  <tbody>\n",
       "    <tr>\n",
       "      <td>0</td>\n",
       "      <td>nm0899854</td>\n",
       "      <td>tt0285252</td>\n",
       "    </tr>\n",
       "    <tr>\n",
       "      <td>1</td>\n",
       "      <td>nm0175726</td>\n",
       "      <td>tt0438973</td>\n",
       "    </tr>\n",
       "    <tr>\n",
       "      <td>2</td>\n",
       "      <td>nm1802864</td>\n",
       "      <td>tt0438973</td>\n",
       "    </tr>\n",
       "    <tr>\n",
       "      <td>3</td>\n",
       "      <td>nm1940585</td>\n",
       "      <td>tt0462036</td>\n",
       "    </tr>\n",
       "    <tr>\n",
       "      <td>4</td>\n",
       "      <td>nm0310087</td>\n",
       "      <td>tt0835418</td>\n",
       "    </tr>\n",
       "  </tbody>\n",
       "</table>\n",
       "</div>"
      ],
      "text/plain": [
       "    writerID    imdb_id\n",
       "0  nm0899854  tt0285252\n",
       "1  nm0175726  tt0438973\n",
       "2  nm1802864  tt0438973\n",
       "3  nm1940585  tt0462036\n",
       "4  nm0310087  tt0835418"
      ]
     },
     "execution_count": 252,
     "metadata": {},
     "output_type": "execute_result"
    }
   ],
   "source": [
    "writers.head()"
   ]
  },
  {
   "cell_type": "code",
   "execution_count": 253,
   "metadata": {},
   "outputs": [
    {
     "name": "stdout",
     "output_type": "stream",
     "text": [
      "<class 'pandas.core.frame.DataFrame'>\n",
      "RangeIndex: 606648 entries, 0 to 606647\n",
      "Data columns (total 6 columns):\n",
      "nconst                606648 non-null object\n",
      "primary_name          606648 non-null object\n",
      "birth_year            82736 non-null float64\n",
      "death_year            6783 non-null float64\n",
      "primary_profession    555308 non-null object\n",
      "known_for_titles      576444 non-null object\n",
      "dtypes: float64(2), object(4)\n",
      "memory usage: 27.8+ MB\n"
     ]
    }
   ],
   "source": [
    "imdb_name_basics = pd.read_csv('imdb.name.basics.csv')\n",
    "imdb_name_basics.info()"
   ]
  },
  {
   "cell_type": "code",
   "execution_count": 254,
   "metadata": {},
   "outputs": [],
   "source": [
    "#join primary_name into writers_df\n",
    "imdb_name_basics.set_index('nconst', inplace=True)\n",
    "writers.set_index('writerID', inplace=True)"
   ]
  },
  {
   "cell_type": "code",
   "execution_count": 255,
   "metadata": {},
   "outputs": [],
   "source": [
    "imdb_name_basics = imdb_name_basics.join(writers)"
   ]
  },
  {
   "cell_type": "code",
   "execution_count": 256,
   "metadata": {},
   "outputs": [],
   "source": [
    "#reset index\n",
    "movies_df.reset_index(inplace=True)"
   ]
  },
  {
   "cell_type": "code",
   "execution_count": 257,
   "metadata": {},
   "outputs": [],
   "source": [
    "#pull revenue and imdb_id out of movies_df\n",
    "small_movies_df = movies_df[['imdb_id', 'revenue']]"
   ]
  },
  {
   "cell_type": "code",
   "execution_count": 258,
   "metadata": {},
   "outputs": [
    {
     "data": {
      "text/html": [
       "<div>\n",
       "<style scoped>\n",
       "    .dataframe tbody tr th:only-of-type {\n",
       "        vertical-align: middle;\n",
       "    }\n",
       "\n",
       "    .dataframe tbody tr th {\n",
       "        vertical-align: top;\n",
       "    }\n",
       "\n",
       "    .dataframe thead th {\n",
       "        text-align: right;\n",
       "    }\n",
       "</style>\n",
       "<table border=\"1\" class=\"dataframe\">\n",
       "  <thead>\n",
       "    <tr style=\"text-align: right;\">\n",
       "      <th></th>\n",
       "      <th>imdb_id</th>\n",
       "      <th>revenue</th>\n",
       "    </tr>\n",
       "  </thead>\n",
       "  <tbody>\n",
       "    <tr>\n",
       "      <td>0</td>\n",
       "      <td>tt2935510</td>\n",
       "      <td>132807427.0</td>\n",
       "    </tr>\n",
       "    <tr>\n",
       "      <td>1</td>\n",
       "      <td>tt1634106</td>\n",
       "      <td>24573617.0</td>\n",
       "    </tr>\n",
       "    <tr>\n",
       "      <td>2</td>\n",
       "      <td>tt3152592</td>\n",
       "      <td>0.0</td>\n",
       "    </tr>\n",
       "    <tr>\n",
       "      <td>3</td>\n",
       "      <td>tt8851668</td>\n",
       "      <td>0.0</td>\n",
       "    </tr>\n",
       "    <tr>\n",
       "      <td>4</td>\n",
       "      <td>tt10303324</td>\n",
       "      <td>0.0</td>\n",
       "    </tr>\n",
       "    <tr>\n",
       "      <td>...</td>\n",
       "      <td>...</td>\n",
       "      <td>...</td>\n",
       "    </tr>\n",
       "    <tr>\n",
       "      <td>19748</td>\n",
       "      <td>tt11380150</td>\n",
       "      <td>0.0</td>\n",
       "    </tr>\n",
       "    <tr>\n",
       "      <td>19749</td>\n",
       "      <td>missing</td>\n",
       "      <td>0.0</td>\n",
       "    </tr>\n",
       "    <tr>\n",
       "      <td>19750</td>\n",
       "      <td>missing</td>\n",
       "      <td>0.0</td>\n",
       "    </tr>\n",
       "    <tr>\n",
       "      <td>19751</td>\n",
       "      <td>missing</td>\n",
       "      <td>0.0</td>\n",
       "    </tr>\n",
       "    <tr>\n",
       "      <td>19752</td>\n",
       "      <td>missing</td>\n",
       "      <td>0.0</td>\n",
       "    </tr>\n",
       "  </tbody>\n",
       "</table>\n",
       "<p>19753 rows × 2 columns</p>\n",
       "</div>"
      ],
      "text/plain": [
       "          imdb_id      revenue\n",
       "0       tt2935510  132807427.0\n",
       "1       tt1634106   24573617.0\n",
       "2       tt3152592          0.0\n",
       "3       tt8851668          0.0\n",
       "4      tt10303324          0.0\n",
       "...           ...          ...\n",
       "19748  tt11380150          0.0\n",
       "19749     missing          0.0\n",
       "19750     missing          0.0\n",
       "19751     missing          0.0\n",
       "19752     missing          0.0\n",
       "\n",
       "[19753 rows x 2 columns]"
      ]
     },
     "execution_count": 258,
     "metadata": {},
     "output_type": "execute_result"
    }
   ],
   "source": [
    "small_movies_df"
   ]
  },
  {
   "cell_type": "code",
   "execution_count": 259,
   "metadata": {},
   "outputs": [
    {
     "data": {
      "text/plain": [
       "0"
      ]
     },
     "execution_count": 259,
     "metadata": {},
     "output_type": "execute_result"
    }
   ],
   "source": [
    "#check for na in imdb_id column\n",
    "small_movies_df['imdb_id'].isna().sum()"
   ]
  },
  {
   "cell_type": "code",
   "execution_count": 260,
   "metadata": {},
   "outputs": [],
   "source": [
    "#group by imdb_id and sum revenue\n",
    "small_movies_df = small_movies_df.groupby('imdb_id').sum()"
   ]
  },
  {
   "cell_type": "code",
   "execution_count": 261,
   "metadata": {},
   "outputs": [],
   "source": [
    "imdb_name_basics.set_index('imdb_id', inplace=True)"
   ]
  },
  {
   "cell_type": "code",
   "execution_count": 262,
   "metadata": {},
   "outputs": [],
   "source": [
    "#join revenue detail from small_movies_df\n",
    "writer_details_df = imdb_name_basics.join(small_movies_df)"
   ]
  },
  {
   "cell_type": "code",
   "execution_count": 263,
   "metadata": {},
   "outputs": [
    {
     "data": {
      "text/html": [
       "<div>\n",
       "<style scoped>\n",
       "    .dataframe tbody tr th:only-of-type {\n",
       "        vertical-align: middle;\n",
       "    }\n",
       "\n",
       "    .dataframe tbody tr th {\n",
       "        vertical-align: top;\n",
       "    }\n",
       "\n",
       "    .dataframe thead th {\n",
       "        text-align: right;\n",
       "    }\n",
       "</style>\n",
       "<table border=\"1\" class=\"dataframe\">\n",
       "  <thead>\n",
       "    <tr style=\"text-align: right;\">\n",
       "      <th></th>\n",
       "      <th>primary_name</th>\n",
       "      <th>birth_year</th>\n",
       "      <th>death_year</th>\n",
       "      <th>primary_profession</th>\n",
       "      <th>known_for_titles</th>\n",
       "      <th>revenue</th>\n",
       "    </tr>\n",
       "    <tr>\n",
       "      <th>imdb_id</th>\n",
       "      <th></th>\n",
       "      <th></th>\n",
       "      <th></th>\n",
       "      <th></th>\n",
       "      <th></th>\n",
       "      <th></th>\n",
       "    </tr>\n",
       "  </thead>\n",
       "  <tbody>\n",
       "    <tr>\n",
       "      <td>tt0063540</td>\n",
       "      <td>Abrar Alvi</td>\n",
       "      <td>1927.0</td>\n",
       "      <td>2009.0</td>\n",
       "      <td>writer,actor,director</td>\n",
       "      <td>tt0071811,tt0359496,tt0056436,tt0061046</td>\n",
       "      <td>NaN</td>\n",
       "    </tr>\n",
       "    <tr>\n",
       "      <td>tt0063540</td>\n",
       "      <td>Gulzar</td>\n",
       "      <td>1936.0</td>\n",
       "      <td>NaN</td>\n",
       "      <td>music_department,writer,soundtrack</td>\n",
       "      <td>tt0091256,tt0178186,tt1010048,tt2176013</td>\n",
       "      <td>NaN</td>\n",
       "    </tr>\n",
       "    <tr>\n",
       "      <td>tt0063540</td>\n",
       "      <td>Mahasweta Devi</td>\n",
       "      <td>1926.0</td>\n",
       "      <td>2016.0</td>\n",
       "      <td>writer</td>\n",
       "      <td>tt0108001,tt0832902,tt0063540,tt0178562</td>\n",
       "      <td>NaN</td>\n",
       "    </tr>\n",
       "    <tr>\n",
       "      <td>tt0063540</td>\n",
       "      <td>Anjana Rawail</td>\n",
       "      <td>NaN</td>\n",
       "      <td>NaN</td>\n",
       "      <td>writer,costume_designer</td>\n",
       "      <td>tt0293499,tt0266712,tt0266757,tt0063540</td>\n",
       "      <td>NaN</td>\n",
       "    </tr>\n",
       "    <tr>\n",
       "      <td>tt0069049</td>\n",
       "      <td>Orson Welles</td>\n",
       "      <td>1915.0</td>\n",
       "      <td>1985.0</td>\n",
       "      <td>actor,director,writer</td>\n",
       "      <td>tt0048393,tt0052311,tt0057427,tt0033467</td>\n",
       "      <td>0.0</td>\n",
       "    </tr>\n",
       "  </tbody>\n",
       "</table>\n",
       "</div>"
      ],
      "text/plain": [
       "             primary_name  birth_year  death_year  \\\n",
       "imdb_id                                             \n",
       "tt0063540      Abrar Alvi      1927.0      2009.0   \n",
       "tt0063540          Gulzar      1936.0         NaN   \n",
       "tt0063540  Mahasweta Devi      1926.0      2016.0   \n",
       "tt0063540   Anjana Rawail         NaN         NaN   \n",
       "tt0069049    Orson Welles      1915.0      1985.0   \n",
       "\n",
       "                           primary_profession  \\\n",
       "imdb_id                                         \n",
       "tt0063540               writer,actor,director   \n",
       "tt0063540  music_department,writer,soundtrack   \n",
       "tt0063540                              writer   \n",
       "tt0063540             writer,costume_designer   \n",
       "tt0069049               actor,director,writer   \n",
       "\n",
       "                                  known_for_titles  revenue  \n",
       "imdb_id                                                      \n",
       "tt0063540  tt0071811,tt0359496,tt0056436,tt0061046      NaN  \n",
       "tt0063540  tt0091256,tt0178186,tt1010048,tt2176013      NaN  \n",
       "tt0063540  tt0108001,tt0832902,tt0063540,tt0178562      NaN  \n",
       "tt0063540  tt0293499,tt0266712,tt0266757,tt0063540      NaN  \n",
       "tt0069049  tt0048393,tt0052311,tt0057427,tt0033467      0.0  "
      ]
     },
     "execution_count": 263,
     "metadata": {},
     "output_type": "execute_result"
    }
   ],
   "source": [
    "writer_details_df.head()"
   ]
  },
  {
   "cell_type": "code",
   "execution_count": 264,
   "metadata": {},
   "outputs": [],
   "source": [
    "#reset index\n",
    "writer_details_df.reset_index(inplace=True)"
   ]
  },
  {
   "cell_type": "code",
   "execution_count": 265,
   "metadata": {},
   "outputs": [],
   "source": [
    "#group by writer name and produce aggregate statistics for the median\n",
    "grouped_writers = writer_details_df.groupby('primary_name').median()"
   ]
  },
  {
   "cell_type": "code",
   "execution_count": 266,
   "metadata": {},
   "outputs": [
    {
     "data": {
      "text/plain": [
       "0.0            10100\n",
       "117224271.0       23\n",
       "32438988.0        18\n",
       "7171.0            16\n",
       "81170000.0        13\n",
       "               ...  \n",
       "18642.5            1\n",
       "19102646.0         1\n",
       "74668.5            1\n",
       "306162232.0        1\n",
       "264632403.0        1\n",
       "Name: revenue, Length: 2702, dtype: int64"
      ]
     },
     "execution_count": 266,
     "metadata": {},
     "output_type": "execute_result"
    }
   ],
   "source": [
    "grouped_writers['revenue'].value_counts()"
   ]
  },
  {
   "cell_type": "code",
   "execution_count": 267,
   "metadata": {},
   "outputs": [],
   "source": [
    "grouped_writers.reset_index(inplace=True)"
   ]
  },
  {
   "cell_type": "code",
   "execution_count": 268,
   "metadata": {},
   "outputs": [],
   "source": [
    "#sort by revenue\n",
    "grouped_writers = grouped_writers.sort_values('revenue', ascending=False)"
   ]
  },
  {
   "cell_type": "code",
   "execution_count": 269,
   "metadata": {
    "scrolled": false
   },
   "outputs": [
    {
     "data": {
      "image/png": "[encoded data removed]",
      "text/plain": [
       "<Figure size 720x360 with 1 Axes>"
      ]
     },
     "metadata": {
      "needs_background": "light"
     },
     "output_type": "display_data"
    }
   ],
   "source": [
    "#create bar chart of top writers\n",
    "fig=plt.figure(figsize=(10, 5))\n",
    "colors = ['darkred' for i in range(10)]\n",
    "\n",
    "sns.barplot(x=grouped_writers['primary_name'][:10],\n",
    "            y='revenue', \n",
    "            data=grouped_writers[:10],\n",
    "            palette=colors)\n",
    "\n",
    "plt.xticks(rotation=90)\n",
    "plt.title('Highest Grossing Writers')\n",
    "plt.xlabel('Writers')\n",
    "plt.ylabel('Median Revenue')\n",
    "plt.show()"
   ]
  },
  {
   "cell_type": "markdown",
   "metadata": {},
   "source": [
    "Michael Crichton and Jim Starlin produce the highest median revenue movies.  These two writers should be targeted if possible, but others within the top 10 are not bad choices either.  All writers in the top 10 are associated with median movie revenue generation of at least $1.2 billion. I would recommend targeting one of these top writers who is familiar with one of the top genres identified earlier. "
   ]
  }
 ],
 "metadata": {
  "kernelspec": {
   "display_name": "Python 3",
   "language": "python",
   "name": "python3"
  },
  "language_info": {
   "codemirror_mode": {
    "name": "ipython",
    "version": 3
   },
   "file_extension": ".py",
   "mimetype": "text/x-python",
   "name": "python",
   "nbconvert_exporter": "python",
   "pygments_lexer": "ipython3",
   "version": "3.6.9"
  }
 },
 "nbformat": 4,
 "nbformat_minor": 2
}
